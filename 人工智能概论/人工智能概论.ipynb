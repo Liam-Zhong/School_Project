{
 "cells": [
  {
   "cell_type": "code",
   "id": "initial_id",
   "metadata": {
    "collapsed": true,
    "ExecuteTime": {
     "end_time": "2024-07-10T11:05:33.202299Z",
     "start_time": "2024-07-10T11:05:32.024514Z"
    }
   },
   "source": [
    "import torch \n",
    "import pandas as pd \n",
    "import torch.nn as nn \n",
    "from torch.utils.data import random_split, DataLoader, TensorDataset \n",
    "import torch.nn.functional as F \n",
    "import numpy as np \n",
    "import torch.optim as optim \n",
    "from torch.optim import Adam"
   ],
   "outputs": [],
   "execution_count": 1
  },
  {
   "metadata": {
    "ExecuteTime": {
     "end_time": "2024-07-10T11:05:38.202892Z",
     "start_time": "2024-07-10T11:05:36.763047Z"
    }
   },
   "cell_type": "code",
   "source": [
    "# 加载数据\n",
    "df = pd.read_excel('data\\Iris_dataset.xlsx') \n",
    "print('查看数据集的样本:') \n",
    "print(df.head()) \n",
    "\n",
    "# 验证数据是否平衡，以及我们有哪些类型的物种  \n",
    "print('\\n我们的数据集是平衡的，并且有以下值需要预测:') \n",
    "print(df['Iris_Type'].value_counts())"
   ],
   "id": "7294c03f9578925b",
   "outputs": [
    {
     "name": "stdout",
     "output_type": "stream",
     "text": [
      "查看数据集的样本:\n",
      "     #  sepal length in cm  sepal width in cm  petal length in cm  \\\n",
      "0    1                 5.1                3.5                 1.4   \n",
      "1  101                 6.3                3.3                 6.0   \n",
      "2  110                 7.2                3.6                 6.1   \n",
      "3  145                 6.7                3.3                 5.7   \n",
      "4  115                 5.8                2.8                 5.1   \n",
      "\n",
      "   petal width in cm       Iris_Type  \n",
      "0                0.2     Iris-setosa  \n",
      "1                2.5  Iris-virginica  \n",
      "2                2.5  Iris-virginica  \n",
      "3                2.5  Iris-virginica  \n",
      "4                2.4  Iris-virginica  \n",
      "\n",
      "我们的数据集是平衡的，并且有以下值需要预测:\n",
      "Iris_Type\n",
      "Iris-setosa        50\n",
      "Iris-virginica     50\n",
      "Iris-versicolor    50\n",
      "Name: count, dtype: int64\n"
     ]
    }
   ],
   "execution_count": 2
  },
  {
   "metadata": {
    "ExecuteTime": {
     "end_time": "2024-07-10T11:05:39.639765Z",
     "start_time": "2024-07-10T11:05:39.624045Z"
    }
   },
   "cell_type": "code",
   "source": [
    "# 将鸢尾花物种转换为数字类型：Iris-setosa=0，Iris-versicolor=1，Iris-virginica=2\n",
    "labels = {'Iris-setosa':0, 'Iris-versicolor':1, 'Iris-virginica':2} \n",
    "df['IrisType_num'] = df['Iris_Type']   # 创建一个新列\"IrisType_num\"\n",
    "df.IrisType_num = [labels[item] for item in df.IrisType_num]  # 将值转换为数字\n",
    "\n",
    "# 定义输入和输出数据集\n",
    "input = df.iloc[:, 1:-2]            # 我们丢弃第一列和最后两列。\n",
    "print('\\n输入值为:') \n",
    "print(input.head())   \n",
    "output = df.loc[:, 'IrisType_num']   # 输出Y是最后一列  \n",
    "print('\\n输出值为:') \n",
    "print(output.head())"
   ],
   "id": "c0b406dcc80d181f",
   "outputs": [
    {
     "name": "stdout",
     "output_type": "stream",
     "text": [
      "\n",
      "输入值为:\n",
      "   sepal length in cm  sepal width in cm  petal length in cm  \\\n",
      "0                 5.1                3.5                 1.4   \n",
      "1                 6.3                3.3                 6.0   \n",
      "2                 7.2                3.6                 6.1   \n",
      "3                 6.7                3.3                 5.7   \n",
      "4                 5.8                2.8                 5.1   \n",
      "\n",
      "   petal width in cm  \n",
      "0                0.2  \n",
      "1                2.5  \n",
      "2                2.5  \n",
      "3                2.5  \n",
      "4                2.4  \n",
      "\n",
      "输出值为:\n",
      "0    0\n",
      "1    2\n",
      "2    2\n",
      "3    2\n",
      "4    2\n",
      "Name: IrisType_num, dtype: int64\n"
     ]
    }
   ],
   "execution_count": 3
  },
  {
   "metadata": {
    "ExecuteTime": {
     "end_time": "2024-07-10T11:05:40.461630Z",
     "start_time": "2024-07-10T11:05:40.445996Z"
    }
   },
   "cell_type": "code",
   "source": [
    "# 将输入和输出数据转换为张量，并创建一个TensorDataset\n",
    "input = torch.Tensor(input.to_numpy())      # 创建类型为 torch.float32 的张量\n",
    "print('\\n输入格式: ', input.shape, input.dtype)     # 输入格式: torch.Size([150, 4]) torch.float32 \n",
    "output = torch.tensor(output.to_numpy())        # 创建类型为 torch.int64 的张量\n",
    "print('输出格式: ', output.shape, output.dtype)  # 输出格式: torch.Size([150]) torch.int64 \n",
    "data = TensorDataset(input, output)    # 创建一个 torch.utils.data.TensorDataset 对象，以进一步操作数据"
   ],
   "id": "8a5f9b87d0877dc4",
   "outputs": [
    {
     "name": "stdout",
     "output_type": "stream",
     "text": [
      "\n",
      "输入格式:  torch.Size([150, 4]) torch.float32\n",
      "输出格式:  torch.Size([150]) torch.int64\n"
     ]
    }
   ],
   "execution_count": 4
  },
  {
   "metadata": {
    "ExecuteTime": {
     "end_time": "2024-07-10T11:05:41.160770Z",
     "start_time": "2024-07-10T11:05:41.145240Z"
    }
   },
   "cell_type": "code",
   "source": [
    "# 使用 random_split 将数据集拆分为训练集、验证集和测试集\n",
    "train_batch_size = 10        \n",
    "number_rows = len(input)    # 数据集的大小或 Excel 表中的行数。\n",
    "test_split = int(number_rows * 0.3)  \n",
    "validate_split = int(number_rows * 0.2) \n",
    "train_split = number_rows - test_split - validate_split     \n",
    "train_set, validate_set, test_set = random_split( \n",
    "    data, [train_split, validate_split, test_split])    \n",
    " \n",
    "# 创建 DataLoader 以读取数据并按批次大小加载到内存中\n",
    "train_loader = DataLoader(train_set, batch_size=train_batch_size, shuffle=True) \n",
    "validate_loader = DataLoader(validate_set, batch_size=1) \n",
    "test_loader = DataLoader(test_set, batch_size=1)"
   ],
   "id": "572ba6ca00ffb5be",
   "outputs": [],
   "execution_count": 5
  },
  {
   "metadata": {
    "ExecuteTime": {
     "end_time": "2024-07-10T11:05:42.872227Z",
     "start_time": "2024-07-10T11:05:42.147256Z"
    }
   },
   "cell_type": "code",
   "source": [
    "# 定义模型参数\n",
    "input_size = list(input.shape)[1]   # = 4。输入取决于我们最初向模型提供多少特征。在我们的情况下，每个预测值有 4 个特征。\n",
    "learning_rate = 0.01 \n",
    "output_size = len(labels)           # 输出是对三种鸢尾花进行预测的结果。\n",
    "\n",
    "# 定义神经网络\n",
    "class Network(nn.Module): \n",
    "   def __init__(self, input_size, output_size): \n",
    "       super(Network, self).__init__() \n",
    "        \n",
    "       self.layer1 = nn.Linear(input_size, 24) \n",
    "       self.layer2 = nn.Linear(24, 24) \n",
    "       self.layer3 = nn.Linear(24, output_size) \n",
    "\n",
    "   def forward(self, x): \n",
    "       x1 = F.relu(self.layer1(x)) \n",
    "       x2 = F.relu(self.layer2(x1)) \n",
    "       x3 = self.layer3(x2) \n",
    "       return x3 \n",
    " \n",
    "# 实例化模型\n",
    "device = torch.device(\"cuda:0\" if torch.cuda.is_available() else \"cpu\") \n",
    "model = Network(input_size, output_size).to(device)"
   ],
   "id": "fca639b70e9329aa",
   "outputs": [],
   "execution_count": 6
  },
  {
   "metadata": {
    "ExecuteTime": {
     "end_time": "2024-07-10T11:05:43.572301Z",
     "start_time": "2024-07-10T11:05:43.556587Z"
    }
   },
   "cell_type": "code",
   "source": [
    "# 保存模型的函数\n",
    "def saveModel(): \n",
    "    path = \"./NetModel.pth\" \n",
    "    torch.save(model.state_dict(), path)"
   ],
   "id": "39f307f5e3712d6e",
   "outputs": [],
   "execution_count": 7
  },
  {
   "metadata": {
    "ExecuteTime": {
     "end_time": "2024-07-10T11:05:44.328668Z",
     "start_time": "2024-07-10T11:05:44.313027Z"
    }
   },
   "cell_type": "code",
   "source": [
    "# 使用分类交叉熵损失函数和 Adam 优化器定义损失函数和优化器\n",
    "loss_fn = nn.CrossEntropyLoss()\n",
    "optimizer = Adam(model.parameters(), lr=0.001, weight_decay=0.0001)"
   ],
   "id": "1f32c63e3c1b1a5f",
   "outputs": [],
   "execution_count": 8
  },
  {
   "metadata": {
    "ExecuteTime": {
     "end_time": "2024-07-10T11:05:45.255933Z",
     "start_time": "2024-07-10T11:05:45.224707Z"
    }
   },
   "cell_type": "code",
   "source": [
    "# 训练函数\n",
    "def train(num_epochs,device): \n",
    "    best_accuracy = 0.0 \n",
    "     \n",
    "    print(\"开始训练...\") \n",
    "    for epoch in range(1, num_epochs+1): \n",
    "        running_train_loss = 0.0 \n",
    "        running_accuracy = 0.0 \n",
    "        running_val_loss = 0.0 \n",
    "        total = 0 \n",
    " \n",
    "        # 训练循环\n",
    "        for data in train_loader: \n",
    "            inputs, outputs = data  # 获取输入和实际输出; data 是一个 [输入，输出] 的列表\n",
    "            inputs, outputs = inputs.to(device), outputs.to(device)\n",
    "            optimizer.zero_grad()   # 将参数梯度归零          \n",
    "            predicted_outputs = model(inputs)   # 从模型中预测输出\n",
    "            train_loss = loss_fn(predicted_outputs, outputs)   # 计算预测输出的损失\n",
    "            train_loss.backward()   # 反向传播损失\n",
    "            optimizer.step()        # 根据计算的梯度调整参数\n",
    "            running_train_loss += train_loss.item()  # 跟踪损失值\n",
    " \n",
    "        # 计算训练损失值\n",
    "        train_loss_value = running_train_loss / len(train_loader) \n",
    " \n",
    "        # 验证循环\n",
    "        with torch.no_grad(): \n",
    "            model.eval() \n",
    "            for data in validate_loader: \n",
    "                inputs, outputs = data \n",
    "                inputs, outputs = inputs.to(device), outputs.to(device)\n",
    "                predicted_outputs = model(inputs) \n",
    "                val_loss = loss_fn(predicted_outputs, outputs) \n",
    "             \n",
    "                # 预测输出中值最大的标签将是我们的预测\n",
    "                _, predicted = torch.max(predicted_outputs, 1) \n",
    "                running_val_loss += val_loss.item()  \n",
    "                total += outputs.size(0) \n",
    "                running_accuracy += (predicted == outputs).sum().item() \n",
    " \n",
    "        # 计算验证损失值\n",
    "        val_loss_value = running_val_loss / len(validate_loader) \n",
    "                \n",
    "        # 计算准确率，即验证批次中的正确预测数除以总预测数。\n",
    "        accuracy = (100 * running_accuracy / total)     \n",
    " \n",
    "        # 如果准确率是最佳的，则保存模型\n",
    "        if accuracy > best_accuracy: \n",
    "            saveModel() \n",
    "            best_accuracy = accuracy \n",
    "         \n",
    "        # 打印每个 epoch 的统计信息\n",
    "        print('完成训练批次', epoch, '训练损失为: %.4f' % train_loss_value, '验证损失为: %.4f' % val_loss_value, '准确率为 %d %%' % (accuracy))"
   ],
   "id": "ff28e959ca7caf0d",
   "outputs": [],
   "execution_count": 9
  },
  {
   "metadata": {
    "ExecuteTime": {
     "end_time": "2024-07-10T11:05:45.953080Z",
     "start_time": "2024-07-10T11:05:45.937348Z"
    }
   },
   "cell_type": "code",
   "source": [
    "# 测试模型的函数\n",
    "def test(): \n",
    "    # 加载我们在训练循环结束时保存的模型\n",
    "    model = Network(input_size, output_size) \n",
    "    path = \"NetModel.pth\" \n",
    "    model.load_state_dict(torch.load(path)) \n",
    "     \n",
    "    running_accuracy = 0 \n",
    "    total = 0 \n",
    " \n",
    "    with torch.no_grad(): \n",
    "        for data in test_loader: \n",
    "            inputs, outputs = data \n",
    "            outputs = outputs.to(torch.float32) \n",
    "            predicted_outputs = model(inputs) \n",
    "            _, predicted = torch.max(predicted_outputs, 1) \n",
    "            total += outputs.size(0) \n",
    "            running_accuracy += (predicted == outputs).sum().item() \n",
    " \n",
    "        print('基于', test_split, '个输入的测试集的模型准确率为: %d %%' % (100 * running_accuracy / total))    \n",
    " \n",
    " \n",
    "# 可选: 测试哪种鸢尾花更容易预测\n",
    "def test_species(): \n",
    "    # 加载我们在训练循环结束时保存的模型\n",
    "    model = Network(input_size, output_size) \n",
    "    path = \"NetModel.pth\" \n",
    "    model.load_state_dict(torch.load(path)) \n",
    "     \n",
    "    labels_length = len(labels) # 我们有多少种鸢尾花标签。在我们的数据库中为 3。\n",
    "    labels_correct = list(0. for i in range(labels_length)) # 用于计算正确标签的列表 [多少正确的山鸢尾，多少正确的变色鸢尾，多少正确的维吉尼亚鸢尾] \n",
    "    labels_total = list(0. for i in range(labels_length))   # 用于保持每种类型的总标签数的列表 [总山鸢尾，总变色鸢尾，总维吉尼亚鸢尾] \n",
    "  \n",
    "    with torch.no_grad(): \n",
    "        for data in test_loader: \n",
    "            inputs, outputs = data \n",
    "            predicted_outputs = model(inputs) \n",
    "            _, predicted = torch.max(predicted_outputs, 1) \n",
    "             \n",
    "            label_correct_running = (predicted == outputs).squeeze() \n",
    "            label = outputs[0] \n",
    "            if label_correct_running.item():  \n",
    "                labels_correct[label] += 1 \n",
    "            labels_total[label] += 1  \n",
    "  \n",
    "    label_list = list(labels.keys()) \n",
    "    for i in range(output_size): \n",
    "        print('预测 %5s 的准确率为: %2d %%' % (label_list[i], 100 * labels_correct[i] / labels_total[i]))"
   ],
   "id": "2d21d92134e2a56e",
   "outputs": [],
   "execution_count": 10
  },
  {
   "metadata": {
    "ExecuteTime": {
     "end_time": "2024-07-10T11:05:48.107593Z",
     "start_time": "2024-07-10T11:05:46.579221Z"
    }
   },
   "cell_type": "code",
   "source": [
    "if __name__ == \"__main__\": \n",
    "    num_epochs = 10\n",
    "    train(num_epochs,device) \n",
    "    print('训练完成\\n') \n",
    "    test() \n",
    "    test_species()"
   ],
   "id": "d486036c21348956",
   "outputs": [
    {
     "name": "stdout",
     "output_type": "stream",
     "text": [
      "开始训练...\n",
      "完成训练批次 1 训练损失为: 1.1453 验证损失为: 1.1163 准确率为 66 %\n",
      "完成训练批次 2 训练损失为: 1.0914 验证损失为: 1.0686 准确率为 60 %\n",
      "完成训练批次 3 训练损失为: 1.0510 验证损失为: 1.0318 准确率为 46 %\n",
      "完成训练批次 4 训练损失为: 1.0156 验证损失为: 0.9953 准确率为 63 %\n",
      "完成训练批次 5 训练损失为: 0.9806 验证损失为: 0.9562 准确率为 70 %\n",
      "完成训练批次 6 训练损失为: 0.9433 验证损失为: 0.9119 准确率为 70 %\n",
      "完成训练批次 7 训练损失为: 0.8803 验证损失为: 0.8640 准确率为 70 %\n",
      "完成训练批次 8 训练损失为: 0.8390 验证损失为: 0.8164 准确率为 70 %\n",
      "完成训练批次 9 训练损失为: 0.7877 验证损失为: 0.7673 准确率为 70 %\n",
      "完成训练批次 10 训练损失为: 0.7362 验证损失为: 0.7183 准确率为 70 %\n",
      "训练完成\n",
      "\n",
      "基于 45 个输入的测试集的模型准确率为: 62 %\n",
      "预测 Iris-setosa 的准确率为: 100 %\n",
      "预测 Iris-versicolor 的准确率为:  0 %\n",
      "预测 Iris-virginica 的准确率为: 100 %\n"
     ]
    }
   ],
   "execution_count": 11
  },
  {
   "metadata": {},
   "cell_type": "code",
   "outputs": [],
   "execution_count": null,
   "source": "",
   "id": "73b9d9c75e775dfd"
  }
 ],
 "metadata": {
  "kernelspec": {
   "display_name": "Python 3",
   "language": "python",
   "name": "python3"
  },
  "language_info": {
   "codemirror_mode": {
    "name": "ipython",
    "version": 2
   },
   "file_extension": ".py",
   "mimetype": "text/x-python",
   "name": "python",
   "nbconvert_exporter": "python",
   "pygments_lexer": "ipython2",
   "version": "2.7.6"
  }
 },
 "nbformat": 4,
 "nbformat_minor": 5
}
