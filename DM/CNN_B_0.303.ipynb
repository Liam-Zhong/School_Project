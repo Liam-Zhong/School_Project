{
 "cells": [
  {
   "cell_type": "markdown",
   "metadata": {
    "pycharm": {
     "name": "#%% md\n"
    }
   },
   "source": [
    "## 前期准备"
   ]
  },
  {
   "cell_type": "code",
   "execution_count": 1,
   "metadata": {
    "pycharm": {
     "name": "#%%\n"
    },
    "ExecuteTime": {
     "end_time": "2023-12-12T05:46:17.800988100Z",
     "start_time": "2023-12-12T05:46:13.773732500Z"
    }
   },
   "outputs": [
    {
     "data": {
      "text/plain": "  geohash_id   date_id    F_1    F_2    F_3    F_4    F_5    F_6    F_7  \\\n0  007e3e4ef  20230104 -0.582 -0.592 -0.592 -0.480 -0.500 -0.562  0.066   \n1  00a05f0b1  20230104  1.392  1.389  1.230  1.028  1.122  1.385  0.966   \n2  00aaa190x  20230104 -0.904 -0.914 -0.992 -0.896 -0.911 -0.926  2.127   \n3  00b24a1c9  20230104 -0.850 -0.839 -0.740 -0.854 -0.881 -0.911  0.822   \n4  00f716fcd  20230104 -1.033 -1.079 -1.041 -0.987 -0.994 -1.030  0.875   \n\n     F_8  ...   F_28   F_29   F_30   F_31   F_32   F_33   F_34   F_35  \\\n0  0.113  ...  0.101  0.301  0.009 -0.301 -0.350 -0.324 -0.314 -0.891   \n1  0.588  ...  0.070  0.269  0.011  1.092  0.956  1.136 -0.206  0.412   \n2  3.444  ...  0.070  0.241  0.010 -0.600 -0.664 -0.579 -0.393 -0.888   \n3  2.162  ...  0.061  0.315  0.008 -0.548 -0.614 -0.536 -1.088 -0.822   \n4  0.989  ...  0.049  0.180  0.008 -0.686 -0.731 -0.665  0.071 -0.747   \n\n   active_index  consume_index  \n0        70.036          68.04  \n1        74.135          78.88  \n2        66.727          58.93  \n3        66.534          59.65  \n4        78.696          52.51  \n\n[5 rows x 37 columns]",
      "text/html": "<div>\n<style scoped>\n    .dataframe tbody tr th:only-of-type {\n        vertical-align: middle;\n    }\n\n    .dataframe tbody tr th {\n        vertical-align: top;\n    }\n\n    .dataframe thead th {\n        text-align: right;\n    }\n</style>\n<table border=\"1\" class=\"dataframe\">\n  <thead>\n    <tr style=\"text-align: right;\">\n      <th></th>\n      <th>geohash_id</th>\n      <th>date_id</th>\n      <th>F_1</th>\n      <th>F_2</th>\n      <th>F_3</th>\n      <th>F_4</th>\n      <th>F_5</th>\n      <th>F_6</th>\n      <th>F_7</th>\n      <th>F_8</th>\n      <th>...</th>\n      <th>F_28</th>\n      <th>F_29</th>\n      <th>F_30</th>\n      <th>F_31</th>\n      <th>F_32</th>\n      <th>F_33</th>\n      <th>F_34</th>\n      <th>F_35</th>\n      <th>active_index</th>\n      <th>consume_index</th>\n    </tr>\n  </thead>\n  <tbody>\n    <tr>\n      <th>0</th>\n      <td>007e3e4ef</td>\n      <td>20230104</td>\n      <td>-0.582</td>\n      <td>-0.592</td>\n      <td>-0.592</td>\n      <td>-0.480</td>\n      <td>-0.500</td>\n      <td>-0.562</td>\n      <td>0.066</td>\n      <td>0.113</td>\n      <td>...</td>\n      <td>0.101</td>\n      <td>0.301</td>\n      <td>0.009</td>\n      <td>-0.301</td>\n      <td>-0.350</td>\n      <td>-0.324</td>\n      <td>-0.314</td>\n      <td>-0.891</td>\n      <td>70.036</td>\n      <td>68.04</td>\n    </tr>\n    <tr>\n      <th>1</th>\n      <td>00a05f0b1</td>\n      <td>20230104</td>\n      <td>1.392</td>\n      <td>1.389</td>\n      <td>1.230</td>\n      <td>1.028</td>\n      <td>1.122</td>\n      <td>1.385</td>\n      <td>0.966</td>\n      <td>0.588</td>\n      <td>...</td>\n      <td>0.070</td>\n      <td>0.269</td>\n      <td>0.011</td>\n      <td>1.092</td>\n      <td>0.956</td>\n      <td>1.136</td>\n      <td>-0.206</td>\n      <td>0.412</td>\n      <td>74.135</td>\n      <td>78.88</td>\n    </tr>\n    <tr>\n      <th>2</th>\n      <td>00aaa190x</td>\n      <td>20230104</td>\n      <td>-0.904</td>\n      <td>-0.914</td>\n      <td>-0.992</td>\n      <td>-0.896</td>\n      <td>-0.911</td>\n      <td>-0.926</td>\n      <td>2.127</td>\n      <td>3.444</td>\n      <td>...</td>\n      <td>0.070</td>\n      <td>0.241</td>\n      <td>0.010</td>\n      <td>-0.600</td>\n      <td>-0.664</td>\n      <td>-0.579</td>\n      <td>-0.393</td>\n      <td>-0.888</td>\n      <td>66.727</td>\n      <td>58.93</td>\n    </tr>\n    <tr>\n      <th>3</th>\n      <td>00b24a1c9</td>\n      <td>20230104</td>\n      <td>-0.850</td>\n      <td>-0.839</td>\n      <td>-0.740</td>\n      <td>-0.854</td>\n      <td>-0.881</td>\n      <td>-0.911</td>\n      <td>0.822</td>\n      <td>2.162</td>\n      <td>...</td>\n      <td>0.061</td>\n      <td>0.315</td>\n      <td>0.008</td>\n      <td>-0.548</td>\n      <td>-0.614</td>\n      <td>-0.536</td>\n      <td>-1.088</td>\n      <td>-0.822</td>\n      <td>66.534</td>\n      <td>59.65</td>\n    </tr>\n    <tr>\n      <th>4</th>\n      <td>00f716fcd</td>\n      <td>20230104</td>\n      <td>-1.033</td>\n      <td>-1.079</td>\n      <td>-1.041</td>\n      <td>-0.987</td>\n      <td>-0.994</td>\n      <td>-1.030</td>\n      <td>0.875</td>\n      <td>0.989</td>\n      <td>...</td>\n      <td>0.049</td>\n      <td>0.180</td>\n      <td>0.008</td>\n      <td>-0.686</td>\n      <td>-0.731</td>\n      <td>-0.665</td>\n      <td>0.071</td>\n      <td>-0.747</td>\n      <td>78.696</td>\n      <td>52.51</td>\n    </tr>\n  </tbody>\n</table>\n<p>5 rows × 37 columns</p>\n</div>"
     },
     "execution_count": 1,
     "metadata": {},
     "output_type": "execute_result"
    }
   ],
   "source": [
    "import numpy as np\n",
    "import pandas as pd\n",
    "import random\n",
    "import torch\n",
    "import torch.nn as nn\n",
    "import torch.optim as optim  #一个实现了各种优化算法的库\n",
    "from matplotlib import pyplot as plt\n",
    "from tqdm import tqdm\n",
    "from datetime import datetime\n",
    "from sklearn.metrics import mean_squared_error\n",
    "import warnings\n",
    "import os\n",
    "\n",
    "warnings.filterwarnings('ignore')\n",
    "\n",
    "#设置随机种子\n",
    "torch.backends.cudnn.deterministic = True  #将cudnn框架中的随机数生成器设为确定性模式\n",
    "torch.backends.cudnn.benchmark = False  #关闭CuDNN框架的自动寻找最优卷积算法的功能，以避免不同的算法对结果产生影响\n",
    "torch.manual_seed(42)\n",
    "np.random.seed(42)\n",
    "random.seed(42)\n",
    "\n",
    "train_node = pd.read_csv(\"data/train_90.csv\")\n",
    "train_edge = pd.read_csv(\"data/edge_90.csv\")\n",
    "test_node = pd.read_csv(\"data/node_test_4_A.csv\")\n",
    "test_edge = pd.read_csv(\"data/edge_test_4_A.csv\")\n",
    "test_node_B = pd.read_csv(\"data/node_test_3_B.csv\")\n",
    "test_edge_B = pd.read_csv(\"data/edge_test_3_B.csv\")\n",
    "\n",
    "all_nodes = pd.concat([train_node, test_node], axis=0)\n",
    "all_nodes = pd.concat([all_nodes, test_node_B], axis=0)\n",
    "all_nodes = all_nodes.drop([\"F_23\", \"F_27\"], axis=1)\n",
    "all_nodes = all_nodes.sort_values([\"date_id\", \"geohash_id\"]).reset_index(drop=True)\n",
    "all_nodes.head()"
   ]
  },
  {
   "cell_type": "code",
   "execution_count": 2,
   "outputs": [
    {
     "data": {
      "text/plain": "       geohash_id   date_id    F_1    F_2    F_3    F_4    F_5    F_6    F_7  \\\n110575  fee9ff61g  20230410  1.748  1.776  2.266  1.240  1.131  1.340  0.305   \n110576  ff2a13239  20230410 -1.072 -1.123 -1.103 -1.018 -1.041 -1.064  0.112   \n110577  ff3efc8az  20230410 -0.656 -0.665 -0.706 -0.623 -0.612 -0.679  0.766   \n110578  ff4566eeb  20230410 -0.556 -0.583 -0.568 -0.567 -0.597 -0.694  2.444   \n110579  ffa6d8556  20230410 -1.115 -1.166 -1.144 -1.043 -1.064 -1.096 -1.965   \n\n          F_8  ...   F_28   F_29   F_30   F_31   F_32   F_33   F_34   F_35  \\\n110575 -0.014  ...  0.067  0.370  0.019  1.555  1.417  1.081 -0.151 -0.734   \n110576 -0.200  ...  0.064  0.252  0.015 -0.701 -0.755 -0.679 -0.905 -2.637   \n110577  0.965  ...  0.119  0.451  0.020 -0.207 -0.458 -0.284 -1.729 -1.150   \n110578  2.317  ...  0.070  0.349  0.013 -0.281 -0.472 -0.356 -1.570 -1.334   \n110579 -0.423  ...  0.030  0.121  0.007 -0.732 -0.787 -0.700 -2.073 -2.658   \n\n        active_index  consume_index  \n110575           NaN            NaN  \n110576           NaN            NaN  \n110577           NaN            NaN  \n110578           NaN            NaN  \n110579           NaN            NaN  \n\n[5 rows x 37 columns]",
      "text/html": "<div>\n<style scoped>\n    .dataframe tbody tr th:only-of-type {\n        vertical-align: middle;\n    }\n\n    .dataframe tbody tr th {\n        vertical-align: top;\n    }\n\n    .dataframe thead th {\n        text-align: right;\n    }\n</style>\n<table border=\"1\" class=\"dataframe\">\n  <thead>\n    <tr style=\"text-align: right;\">\n      <th></th>\n      <th>geohash_id</th>\n      <th>date_id</th>\n      <th>F_1</th>\n      <th>F_2</th>\n      <th>F_3</th>\n      <th>F_4</th>\n      <th>F_5</th>\n      <th>F_6</th>\n      <th>F_7</th>\n      <th>F_8</th>\n      <th>...</th>\n      <th>F_28</th>\n      <th>F_29</th>\n      <th>F_30</th>\n      <th>F_31</th>\n      <th>F_32</th>\n      <th>F_33</th>\n      <th>F_34</th>\n      <th>F_35</th>\n      <th>active_index</th>\n      <th>consume_index</th>\n    </tr>\n  </thead>\n  <tbody>\n    <tr>\n      <th>110575</th>\n      <td>fee9ff61g</td>\n      <td>20230410</td>\n      <td>1.748</td>\n      <td>1.776</td>\n      <td>2.266</td>\n      <td>1.240</td>\n      <td>1.131</td>\n      <td>1.340</td>\n      <td>0.305</td>\n      <td>-0.014</td>\n      <td>...</td>\n      <td>0.067</td>\n      <td>0.370</td>\n      <td>0.019</td>\n      <td>1.555</td>\n      <td>1.417</td>\n      <td>1.081</td>\n      <td>-0.151</td>\n      <td>-0.734</td>\n      <td>NaN</td>\n      <td>NaN</td>\n    </tr>\n    <tr>\n      <th>110576</th>\n      <td>ff2a13239</td>\n      <td>20230410</td>\n      <td>-1.072</td>\n      <td>-1.123</td>\n      <td>-1.103</td>\n      <td>-1.018</td>\n      <td>-1.041</td>\n      <td>-1.064</td>\n      <td>0.112</td>\n      <td>-0.200</td>\n      <td>...</td>\n      <td>0.064</td>\n      <td>0.252</td>\n      <td>0.015</td>\n      <td>-0.701</td>\n      <td>-0.755</td>\n      <td>-0.679</td>\n      <td>-0.905</td>\n      <td>-2.637</td>\n      <td>NaN</td>\n      <td>NaN</td>\n    </tr>\n    <tr>\n      <th>110577</th>\n      <td>ff3efc8az</td>\n      <td>20230410</td>\n      <td>-0.656</td>\n      <td>-0.665</td>\n      <td>-0.706</td>\n      <td>-0.623</td>\n      <td>-0.612</td>\n      <td>-0.679</td>\n      <td>0.766</td>\n      <td>0.965</td>\n      <td>...</td>\n      <td>0.119</td>\n      <td>0.451</td>\n      <td>0.020</td>\n      <td>-0.207</td>\n      <td>-0.458</td>\n      <td>-0.284</td>\n      <td>-1.729</td>\n      <td>-1.150</td>\n      <td>NaN</td>\n      <td>NaN</td>\n    </tr>\n    <tr>\n      <th>110578</th>\n      <td>ff4566eeb</td>\n      <td>20230410</td>\n      <td>-0.556</td>\n      <td>-0.583</td>\n      <td>-0.568</td>\n      <td>-0.567</td>\n      <td>-0.597</td>\n      <td>-0.694</td>\n      <td>2.444</td>\n      <td>2.317</td>\n      <td>...</td>\n      <td>0.070</td>\n      <td>0.349</td>\n      <td>0.013</td>\n      <td>-0.281</td>\n      <td>-0.472</td>\n      <td>-0.356</td>\n      <td>-1.570</td>\n      <td>-1.334</td>\n      <td>NaN</td>\n      <td>NaN</td>\n    </tr>\n    <tr>\n      <th>110579</th>\n      <td>ffa6d8556</td>\n      <td>20230410</td>\n      <td>-1.115</td>\n      <td>-1.166</td>\n      <td>-1.144</td>\n      <td>-1.043</td>\n      <td>-1.064</td>\n      <td>-1.096</td>\n      <td>-1.965</td>\n      <td>-0.423</td>\n      <td>...</td>\n      <td>0.030</td>\n      <td>0.121</td>\n      <td>0.007</td>\n      <td>-0.732</td>\n      <td>-0.787</td>\n      <td>-0.700</td>\n      <td>-2.073</td>\n      <td>-2.658</td>\n      <td>NaN</td>\n      <td>NaN</td>\n    </tr>\n  </tbody>\n</table>\n<p>5 rows × 37 columns</p>\n</div>"
     },
     "execution_count": 2,
     "metadata": {},
     "output_type": "execute_result"
    }
   ],
   "source": [
    "all_nodes.tail()"
   ],
   "metadata": {
    "collapsed": false,
    "pycharm": {
     "name": "#%%\n"
    },
    "ExecuteTime": {
     "end_time": "2023-12-12T05:46:21.503168400Z",
     "start_time": "2023-12-12T05:46:21.484731600Z"
    }
   }
  },
  {
   "cell_type": "code",
   "execution_count": 3,
   "metadata": {
    "collapsed": false,
    "pycharm": {
     "name": "#%%\n"
    },
    "ExecuteTime": {
     "end_time": "2023-12-12T05:46:23.381925800Z",
     "start_time": "2023-12-12T05:46:22.447560700Z"
    }
   },
   "outputs": [
    {
     "data": {
      "text/plain": "        geohash6_point1 geohash6_point2  F_1  F_2   date_id  F1-F2  abs(F1-F2)\n0             007e3e4ef       5ee4659fj    3   47  20230104    -44          44\n1             007e3e4ef       95f72a4dv    1   21  20230104    -20          20\n2             007e3e4ef       c9d352c0w    2   27  20230104    -25          25\n3             00a05f0b1       07a98d7fr    2   36  20230104    -34          34\n4             00a05f0b1       0c95ac0bp    1   36  20230104    -35          35\n...                 ...             ...  ...  ...       ...    ...         ...\n1177934       ff4566eeb       c9d352c0w    2   16  20230410    -14          14\n1177935       ff4566eeb       dd186b700    6   37  20230410    -31          31\n1177936       ff4566eeb       edd6ac62u    8   21  20230410    -13          13\n1177937       ff4566eeb       f672b141p    7   23  20230410    -16          16\n1177938       ffa6d8556       00f716fcd    5   36  20230410    -31          31\n\n[1177939 rows x 7 columns]",
      "text/html": "<div>\n<style scoped>\n    .dataframe tbody tr th:only-of-type {\n        vertical-align: middle;\n    }\n\n    .dataframe tbody tr th {\n        vertical-align: top;\n    }\n\n    .dataframe thead th {\n        text-align: right;\n    }\n</style>\n<table border=\"1\" class=\"dataframe\">\n  <thead>\n    <tr style=\"text-align: right;\">\n      <th></th>\n      <th>geohash6_point1</th>\n      <th>geohash6_point2</th>\n      <th>F_1</th>\n      <th>F_2</th>\n      <th>date_id</th>\n      <th>F1-F2</th>\n      <th>abs(F1-F2)</th>\n    </tr>\n  </thead>\n  <tbody>\n    <tr>\n      <th>0</th>\n      <td>007e3e4ef</td>\n      <td>5ee4659fj</td>\n      <td>3</td>\n      <td>47</td>\n      <td>20230104</td>\n      <td>-44</td>\n      <td>44</td>\n    </tr>\n    <tr>\n      <th>1</th>\n      <td>007e3e4ef</td>\n      <td>95f72a4dv</td>\n      <td>1</td>\n      <td>21</td>\n      <td>20230104</td>\n      <td>-20</td>\n      <td>20</td>\n    </tr>\n    <tr>\n      <th>2</th>\n      <td>007e3e4ef</td>\n      <td>c9d352c0w</td>\n      <td>2</td>\n      <td>27</td>\n      <td>20230104</td>\n      <td>-25</td>\n      <td>25</td>\n    </tr>\n    <tr>\n      <th>3</th>\n      <td>00a05f0b1</td>\n      <td>07a98d7fr</td>\n      <td>2</td>\n      <td>36</td>\n      <td>20230104</td>\n      <td>-34</td>\n      <td>34</td>\n    </tr>\n    <tr>\n      <th>4</th>\n      <td>00a05f0b1</td>\n      <td>0c95ac0bp</td>\n      <td>1</td>\n      <td>36</td>\n      <td>20230104</td>\n      <td>-35</td>\n      <td>35</td>\n    </tr>\n    <tr>\n      <th>...</th>\n      <td>...</td>\n      <td>...</td>\n      <td>...</td>\n      <td>...</td>\n      <td>...</td>\n      <td>...</td>\n      <td>...</td>\n    </tr>\n    <tr>\n      <th>1177934</th>\n      <td>ff4566eeb</td>\n      <td>c9d352c0w</td>\n      <td>2</td>\n      <td>16</td>\n      <td>20230410</td>\n      <td>-14</td>\n      <td>14</td>\n    </tr>\n    <tr>\n      <th>1177935</th>\n      <td>ff4566eeb</td>\n      <td>dd186b700</td>\n      <td>6</td>\n      <td>37</td>\n      <td>20230410</td>\n      <td>-31</td>\n      <td>31</td>\n    </tr>\n    <tr>\n      <th>1177936</th>\n      <td>ff4566eeb</td>\n      <td>edd6ac62u</td>\n      <td>8</td>\n      <td>21</td>\n      <td>20230410</td>\n      <td>-13</td>\n      <td>13</td>\n    </tr>\n    <tr>\n      <th>1177937</th>\n      <td>ff4566eeb</td>\n      <td>f672b141p</td>\n      <td>7</td>\n      <td>23</td>\n      <td>20230410</td>\n      <td>-16</td>\n      <td>16</td>\n    </tr>\n    <tr>\n      <th>1177938</th>\n      <td>ffa6d8556</td>\n      <td>00f716fcd</td>\n      <td>5</td>\n      <td>36</td>\n      <td>20230410</td>\n      <td>-31</td>\n      <td>31</td>\n    </tr>\n  </tbody>\n</table>\n<p>1177939 rows × 7 columns</p>\n</div>"
     },
     "execution_count": 3,
     "metadata": {},
     "output_type": "execute_result"
    }
   ],
   "source": [
    "train_edge = pd.read_csv(\"data/edge_90.csv\")\n",
    "test_edge = pd.read_csv(\"data/edge_test_4_A.csv\")\n",
    "test_B_edge = pd.read_csv(\"data/edge_test_3_B.csv\")\n",
    "all_edges = pd.concat([train_edge, test_edge], axis=0)\n",
    "all_edges = pd.concat([all_edges, test_B_edge], axis=0)\n",
    "all_edges = all_edges.sort_values([\"date_id\", \"geohash6_point1\", \"geohash6_point2\"]).reset_index(drop=True)\n",
    "\n",
    "set_train = list(np.sort(all_nodes['geohash_id'].unique()))\n",
    "judge = all_edges[\"geohash6_point1\"].isin(set_train) & all_edges[\"geohash6_point2\"].isin(set_train)\n",
    "all_edges = all_edges.loc[judge, :].reset_index(drop=True)\n",
    "all_edges[\"F1-F2\"] = all_edges[\"F_1\"] - all_edges[\"F_2\"]\n",
    "all_edges[\"abs(F1-F2)\"] = all_edges[\"F1-F2\"].abs()\n",
    "all_edges"
   ]
  },
  {
   "cell_type": "markdown",
   "metadata": {
    "pycharm": {
     "name": "#%% md\n"
    }
   },
   "source": [
    "## 特征工程"
   ]
  },
  {
   "cell_type": "code",
   "execution_count": 4,
   "metadata": {
    "collapsed": false,
    "pycharm": {
     "name": "#%%\n"
    },
    "ExecuteTime": {
     "end_time": "2023-12-12T05:46:25.370963800Z",
     "start_time": "2023-12-12T05:46:25.359338300Z"
    }
   },
   "outputs": [],
   "source": [
    "def feature_processing(all_nodes, all_edges):\n",
    "    # 1. 日期特征\n",
    "    all_nodes['date_id'] = pd.to_datetime(all_nodes['date_id'], format=\"%Y%m%d\")\n",
    "    all_edges['date_id'] = pd.to_datetime(all_nodes['date_id'], format=\"%Y%m%d\")\n",
    "    all_nodes['is_weekday'] = all_nodes['date_id'].apply(lambda x: 1 if x.weekday() < 5 else 0)\n",
    "    all_nodes['weekday_temp'] = all_nodes['date_id'].dt.day_name()\n",
    "    one_hot_encoded = pd.get_dummies(all_nodes['weekday_temp'], prefix='is')\n",
    "    all_nodes = pd.concat([all_nodes.drop('weekday_temp', axis=1), one_hot_encoded], axis=1)\n",
    "\n",
    "    # 2. 差分特征\n",
    "    for feature in init_features:\n",
    "        all_nodes[f\"{feature}_diff\"] = all_nodes.groupby('geohash_id')[feature].diff().fillna(0)\n",
    "\n",
    "    # 3. 滑动窗口特征\n",
    "    window_size = [4, 7]\n",
    "    for feature in tqdm(init_features):\n",
    "        for window in window_size:\n",
    "            for func in ['mean', 'std']:\n",
    "                all_nodes[f\"{feature}_{window}_{func}\"] = all_nodes.groupby('geohash_id')[feature].rolling(\n",
    "                    window=window, min_periods=1).agg(func).reset_index(0, drop=True).fillna(0)\n",
    "\n",
    "    # 4. 边特征\n",
    "    point1 = all_edges.groupby([\"date_id\", \"geohash6_point1\"])[['F_1', 'F_2', 'F1-F2']].agg(\n",
    "        ['max', 'min', 'mean', 'std']).reset_index()\n",
    "    point1.columns = [\"\".join(x) for x in point1.columns.ravel()]\n",
    "    point2 = all_edges.groupby([\"date_id\", \"geohash6_point2\"])[['F_1', 'F_2', 'F1-F2']].agg(\n",
    "        ['max', 'min', 'mean', 'std']).reset_index()\n",
    "    point2.columns = [\"\".join(x) for x in point2.columns.ravel()]\n",
    "    all_nodes = pd.merge(all_nodes, point1, how='outer', left_on=[\"date_id\", \"geohash_id\"],\n",
    "                         right_on=[\"date_id\", \"geohash6_point1\"]).drop(\"geohash6_point1\", axis=1)\n",
    "    all_nodes = pd.merge(all_nodes, point2, how='outer', left_on=[\"date_id\", \"geohash_id\"],\n",
    "                         right_on=[\"date_id\", \"geohash6_point2\"]).drop(\"geohash6_point2\", axis=1)\n",
    "    all_nodes = all_nodes.fillna(0)\n",
    "    return all_nodes"
   ]
  },
  {
   "cell_type": "code",
   "execution_count": 5,
   "metadata": {
    "collapsed": false,
    "pycharm": {
     "name": "#%%\n"
    },
    "ExecuteTime": {
     "end_time": "2023-12-12T05:46:45.691059500Z",
     "start_time": "2023-12-12T05:46:26.641905200Z"
    }
   },
   "outputs": [
    {
     "name": "stdout",
     "output_type": "stream",
     "text": [
      "file need processing!\n"
     ]
    },
    {
     "name": "stderr",
     "output_type": "stream",
     "text": [
      "100%|██████████| 33/33 [00:05<00:00,  6.45it/s]\n"
     ]
    },
    {
     "name": "stdout",
     "output_type": "stream",
     "text": [
      "CPU times: total: 6.64 s\n",
      "Wall time: 19 s\n"
     ]
    },
    {
     "data": {
      "text/plain": "       geohash_id    date_id    F_1    F_2    F_3    F_4    F_5    F_6    F_7  \\\n0       007e3e4ef 2023-01-04 -0.582 -0.592 -0.592 -0.480 -0.500 -0.562  0.066   \n1       00a05f0b1 2023-01-04  1.392  1.389  1.230  1.028  1.122  1.385  0.966   \n2       00aaa190x 2023-01-04 -0.904 -0.914 -0.992 -0.896 -0.911 -0.926  2.127   \n3       00b24a1c9 2023-01-04 -0.850 -0.839 -0.740 -0.854 -0.881 -0.911  0.822   \n4       00f716fcd 2023-01-04 -1.033 -1.079 -1.041 -0.987 -0.994 -1.030  0.875   \n...           ...        ...    ...    ...    ...    ...    ...    ...    ...   \n110575  fee9ff61g 2023-04-10  1.748  1.776  2.266  1.240  1.131  1.340  0.305   \n110576  ff2a13239 2023-04-10 -1.072 -1.123 -1.103 -1.018 -1.041 -1.064  0.112   \n110577  ff3efc8az 2023-04-10 -0.656 -0.665 -0.706 -0.623 -0.612 -0.679  0.766   \n110578  ff4566eeb 2023-04-10 -0.556 -0.583 -0.568 -0.567 -0.597 -0.694  2.444   \n110579  ffa6d8556 2023-04-10 -1.115 -1.166 -1.144 -1.043 -1.064 -1.096 -1.965   \n\n          F_8  ...  F_1mean_y   F_1std_y  F_2max_y  F_2min_y  F_2mean_y  \\\n0       0.113  ...   1.000000   0.000000      39.0      20.0       29.5   \n1       0.588  ...   0.000000   0.000000       0.0       0.0        0.0   \n2       3.444  ...   0.000000   0.000000       0.0       0.0        0.0   \n3       2.162  ...   0.000000   0.000000       0.0       0.0        0.0   \n4       0.989  ...   0.000000   0.000000       0.0       0.0        0.0   \n...       ...  ...        ...        ...       ...       ...        ...   \n110575 -0.014  ...  20.333333  26.857649      33.0      10.0       23.0   \n110576 -0.200  ...   0.000000   0.000000       0.0       0.0        0.0   \n110577  0.965  ...   0.000000   0.000000       0.0       0.0        0.0   \n110578  2.317  ...  12.000000   0.000000      48.0      48.0       48.0   \n110579 -0.423  ...   0.000000   0.000000       0.0       0.0        0.0   \n\n         F_2std_y  F1-F2max_y  F1-F2min_y  F1-F2mean_y  F1-F2std_y  \n0       13.435029       -19.0       -38.0   -28.500000   13.435029  \n1        0.000000         0.0         0.0     0.000000    0.000000  \n2        0.000000         0.0         0.0     0.000000    0.000000  \n3        0.000000         0.0         0.0     0.000000    0.000000  \n4        0.000000         0.0         0.0     0.000000    0.000000  \n...           ...         ...         ...          ...         ...  \n110575  11.789826        41.0       -25.0    -2.666667   37.819748  \n110576   0.000000         0.0         0.0     0.000000    0.000000  \n110577   0.000000         0.0         0.0     0.000000    0.000000  \n110578   0.000000       -36.0       -36.0   -36.000000    0.000000  \n110579   0.000000         0.0         0.0     0.000000    0.000000  \n\n[110580 rows x 234 columns]",
      "text/html": "<div>\n<style scoped>\n    .dataframe tbody tr th:only-of-type {\n        vertical-align: middle;\n    }\n\n    .dataframe tbody tr th {\n        vertical-align: top;\n    }\n\n    .dataframe thead th {\n        text-align: right;\n    }\n</style>\n<table border=\"1\" class=\"dataframe\">\n  <thead>\n    <tr style=\"text-align: right;\">\n      <th></th>\n      <th>geohash_id</th>\n      <th>date_id</th>\n      <th>F_1</th>\n      <th>F_2</th>\n      <th>F_3</th>\n      <th>F_4</th>\n      <th>F_5</th>\n      <th>F_6</th>\n      <th>F_7</th>\n      <th>F_8</th>\n      <th>...</th>\n      <th>F_1mean_y</th>\n      <th>F_1std_y</th>\n      <th>F_2max_y</th>\n      <th>F_2min_y</th>\n      <th>F_2mean_y</th>\n      <th>F_2std_y</th>\n      <th>F1-F2max_y</th>\n      <th>F1-F2min_y</th>\n      <th>F1-F2mean_y</th>\n      <th>F1-F2std_y</th>\n    </tr>\n  </thead>\n  <tbody>\n    <tr>\n      <th>0</th>\n      <td>007e3e4ef</td>\n      <td>2023-01-04</td>\n      <td>-0.582</td>\n      <td>-0.592</td>\n      <td>-0.592</td>\n      <td>-0.480</td>\n      <td>-0.500</td>\n      <td>-0.562</td>\n      <td>0.066</td>\n      <td>0.113</td>\n      <td>...</td>\n      <td>1.000000</td>\n      <td>0.000000</td>\n      <td>39.0</td>\n      <td>20.0</td>\n      <td>29.5</td>\n      <td>13.435029</td>\n      <td>-19.0</td>\n      <td>-38.0</td>\n      <td>-28.500000</td>\n      <td>13.435029</td>\n    </tr>\n    <tr>\n      <th>1</th>\n      <td>00a05f0b1</td>\n      <td>2023-01-04</td>\n      <td>1.392</td>\n      <td>1.389</td>\n      <td>1.230</td>\n      <td>1.028</td>\n      <td>1.122</td>\n      <td>1.385</td>\n      <td>0.966</td>\n      <td>0.588</td>\n      <td>...</td>\n      <td>0.000000</td>\n      <td>0.000000</td>\n      <td>0.0</td>\n      <td>0.0</td>\n      <td>0.0</td>\n      <td>0.000000</td>\n      <td>0.0</td>\n      <td>0.0</td>\n      <td>0.000000</td>\n      <td>0.000000</td>\n    </tr>\n    <tr>\n      <th>2</th>\n      <td>00aaa190x</td>\n      <td>2023-01-04</td>\n      <td>-0.904</td>\n      <td>-0.914</td>\n      <td>-0.992</td>\n      <td>-0.896</td>\n      <td>-0.911</td>\n      <td>-0.926</td>\n      <td>2.127</td>\n      <td>3.444</td>\n      <td>...</td>\n      <td>0.000000</td>\n      <td>0.000000</td>\n      <td>0.0</td>\n      <td>0.0</td>\n      <td>0.0</td>\n      <td>0.000000</td>\n      <td>0.0</td>\n      <td>0.0</td>\n      <td>0.000000</td>\n      <td>0.000000</td>\n    </tr>\n    <tr>\n      <th>3</th>\n      <td>00b24a1c9</td>\n      <td>2023-01-04</td>\n      <td>-0.850</td>\n      <td>-0.839</td>\n      <td>-0.740</td>\n      <td>-0.854</td>\n      <td>-0.881</td>\n      <td>-0.911</td>\n      <td>0.822</td>\n      <td>2.162</td>\n      <td>...</td>\n      <td>0.000000</td>\n      <td>0.000000</td>\n      <td>0.0</td>\n      <td>0.0</td>\n      <td>0.0</td>\n      <td>0.000000</td>\n      <td>0.0</td>\n      <td>0.0</td>\n      <td>0.000000</td>\n      <td>0.000000</td>\n    </tr>\n    <tr>\n      <th>4</th>\n      <td>00f716fcd</td>\n      <td>2023-01-04</td>\n      <td>-1.033</td>\n      <td>-1.079</td>\n      <td>-1.041</td>\n      <td>-0.987</td>\n      <td>-0.994</td>\n      <td>-1.030</td>\n      <td>0.875</td>\n      <td>0.989</td>\n      <td>...</td>\n      <td>0.000000</td>\n      <td>0.000000</td>\n      <td>0.0</td>\n      <td>0.0</td>\n      <td>0.0</td>\n      <td>0.000000</td>\n      <td>0.0</td>\n      <td>0.0</td>\n      <td>0.000000</td>\n      <td>0.000000</td>\n    </tr>\n    <tr>\n      <th>...</th>\n      <td>...</td>\n      <td>...</td>\n      <td>...</td>\n      <td>...</td>\n      <td>...</td>\n      <td>...</td>\n      <td>...</td>\n      <td>...</td>\n      <td>...</td>\n      <td>...</td>\n      <td>...</td>\n      <td>...</td>\n      <td>...</td>\n      <td>...</td>\n      <td>...</td>\n      <td>...</td>\n      <td>...</td>\n      <td>...</td>\n      <td>...</td>\n      <td>...</td>\n      <td>...</td>\n    </tr>\n    <tr>\n      <th>110575</th>\n      <td>fee9ff61g</td>\n      <td>2023-04-10</td>\n      <td>1.748</td>\n      <td>1.776</td>\n      <td>2.266</td>\n      <td>1.240</td>\n      <td>1.131</td>\n      <td>1.340</td>\n      <td>0.305</td>\n      <td>-0.014</td>\n      <td>...</td>\n      <td>20.333333</td>\n      <td>26.857649</td>\n      <td>33.0</td>\n      <td>10.0</td>\n      <td>23.0</td>\n      <td>11.789826</td>\n      <td>41.0</td>\n      <td>-25.0</td>\n      <td>-2.666667</td>\n      <td>37.819748</td>\n    </tr>\n    <tr>\n      <th>110576</th>\n      <td>ff2a13239</td>\n      <td>2023-04-10</td>\n      <td>-1.072</td>\n      <td>-1.123</td>\n      <td>-1.103</td>\n      <td>-1.018</td>\n      <td>-1.041</td>\n      <td>-1.064</td>\n      <td>0.112</td>\n      <td>-0.200</td>\n      <td>...</td>\n      <td>0.000000</td>\n      <td>0.000000</td>\n      <td>0.0</td>\n      <td>0.0</td>\n      <td>0.0</td>\n      <td>0.000000</td>\n      <td>0.0</td>\n      <td>0.0</td>\n      <td>0.000000</td>\n      <td>0.000000</td>\n    </tr>\n    <tr>\n      <th>110577</th>\n      <td>ff3efc8az</td>\n      <td>2023-04-10</td>\n      <td>-0.656</td>\n      <td>-0.665</td>\n      <td>-0.706</td>\n      <td>-0.623</td>\n      <td>-0.612</td>\n      <td>-0.679</td>\n      <td>0.766</td>\n      <td>0.965</td>\n      <td>...</td>\n      <td>0.000000</td>\n      <td>0.000000</td>\n      <td>0.0</td>\n      <td>0.0</td>\n      <td>0.0</td>\n      <td>0.000000</td>\n      <td>0.0</td>\n      <td>0.0</td>\n      <td>0.000000</td>\n      <td>0.000000</td>\n    </tr>\n    <tr>\n      <th>110578</th>\n      <td>ff4566eeb</td>\n      <td>2023-04-10</td>\n      <td>-0.556</td>\n      <td>-0.583</td>\n      <td>-0.568</td>\n      <td>-0.567</td>\n      <td>-0.597</td>\n      <td>-0.694</td>\n      <td>2.444</td>\n      <td>2.317</td>\n      <td>...</td>\n      <td>12.000000</td>\n      <td>0.000000</td>\n      <td>48.0</td>\n      <td>48.0</td>\n      <td>48.0</td>\n      <td>0.000000</td>\n      <td>-36.0</td>\n      <td>-36.0</td>\n      <td>-36.000000</td>\n      <td>0.000000</td>\n    </tr>\n    <tr>\n      <th>110579</th>\n      <td>ffa6d8556</td>\n      <td>2023-04-10</td>\n      <td>-1.115</td>\n      <td>-1.166</td>\n      <td>-1.144</td>\n      <td>-1.043</td>\n      <td>-1.064</td>\n      <td>-1.096</td>\n      <td>-1.965</td>\n      <td>-0.423</td>\n      <td>...</td>\n      <td>0.000000</td>\n      <td>0.000000</td>\n      <td>0.0</td>\n      <td>0.0</td>\n      <td>0.0</td>\n      <td>0.000000</td>\n      <td>0.0</td>\n      <td>0.0</td>\n      <td>0.000000</td>\n      <td>0.000000</td>\n    </tr>\n  </tbody>\n</table>\n<p>110580 rows × 234 columns</p>\n</div>"
     },
     "execution_count": 5,
     "metadata": {},
     "output_type": "execute_result"
    }
   ],
   "source": [
    "%%time\n",
    "init_features = [f\"F_{i}\" for i in range(1, 36) if i not in [23, 27]]\n",
    "file_path = r\"all_nodes_B.csv\"\n",
    "\n",
    "if os.path.isfile(file_path):\n",
    "    print(\"file exist!\")\n",
    "    all_nodes = pd.read_csv(file_path)\n",
    "else:\n",
    "    print(\"file need processing!\")\n",
    "    all_nodes = feature_processing(all_nodes, all_edges)\n",
    "    all_nodes.to_csv(file_path, index=None)\n",
    "\n",
    "proc_features = [feat for feat in all_nodes.columns if\n",
    "                 feat not in ['geohash_id', 'date_id', 'active_index', 'consume_index', 'F_23', 'F_27'] + init_features]\n",
    "all_features = init_features + proc_features\n",
    "all_nodes"
   ]
  },
  {
   "cell_type": "markdown",
   "metadata": {
    "pycharm": {
     "name": "#%% md\n"
    }
   },
   "source": [
    "## 模型建立"
   ]
  },
  {
   "cell_type": "markdown",
   "metadata": {
    "pycharm": {
     "name": "#%% md\n"
    }
   },
   "source": [
    "### 数据预处理"
   ]
  },
  {
   "cell_type": "markdown",
   "metadata": {
    "pycharm": {
     "name": "#%% md\n"
    }
   },
   "source": [
    "#### 类别特征编码"
   ]
  },
  {
   "cell_type": "code",
   "execution_count": 6,
   "metadata": {
    "collapsed": false,
    "pycharm": {
     "name": "#%%\n"
    },
    "ExecuteTime": {
     "end_time": "2023-12-12T05:46:52.368780600Z",
     "start_time": "2023-12-12T05:46:52.323908100Z"
    }
   },
   "outputs": [
    {
     "data": {
      "text/plain": "        geohash_id    date_id    F_1    F_2    F_3    F_4    F_5    F_6  \\\n0                0 2023-01-04 -0.582 -0.592 -0.592 -0.480 -0.500 -0.562   \n1                1 2023-01-04  1.392  1.389  1.230  1.028  1.122  1.385   \n2                2 2023-01-04 -0.904 -0.914 -0.992 -0.896 -0.911 -0.926   \n3                3 2023-01-04 -0.850 -0.839 -0.740 -0.854 -0.881 -0.911   \n4                4 2023-01-04 -1.033 -1.079 -1.041 -0.987 -0.994 -1.030   \n...            ...        ...    ...    ...    ...    ...    ...    ...   \n110575        1135 2023-04-10  1.748  1.776  2.266  1.240  1.131  1.340   \n110576        1136 2023-04-10 -1.072 -1.123 -1.103 -1.018 -1.041 -1.064   \n110577        1137 2023-04-10 -0.656 -0.665 -0.706 -0.623 -0.612 -0.679   \n110578        1138 2023-04-10 -0.556 -0.583 -0.568 -0.567 -0.597 -0.694   \n110579        1139 2023-04-10 -1.115 -1.166 -1.144 -1.043 -1.064 -1.096   \n\n          F_7    F_8  ...  F_1mean_y   F_1std_y  F_2max_y  F_2min_y  \\\n0       0.066  0.113  ...   1.000000   0.000000      39.0      20.0   \n1       0.966  0.588  ...   0.000000   0.000000       0.0       0.0   \n2       2.127  3.444  ...   0.000000   0.000000       0.0       0.0   \n3       0.822  2.162  ...   0.000000   0.000000       0.0       0.0   \n4       0.875  0.989  ...   0.000000   0.000000       0.0       0.0   \n...       ...    ...  ...        ...        ...       ...       ...   \n110575  0.305 -0.014  ...  20.333333  26.857649      33.0      10.0   \n110576  0.112 -0.200  ...   0.000000   0.000000       0.0       0.0   \n110577  0.766  0.965  ...   0.000000   0.000000       0.0       0.0   \n110578  2.444  2.317  ...  12.000000   0.000000      48.0      48.0   \n110579 -1.965 -0.423  ...   0.000000   0.000000       0.0       0.0   \n\n        F_2mean_y   F_2std_y  F1-F2max_y  F1-F2min_y  F1-F2mean_y  F1-F2std_y  \n0            29.5  13.435029       -19.0       -38.0   -28.500000   13.435029  \n1             0.0   0.000000         0.0         0.0     0.000000    0.000000  \n2             0.0   0.000000         0.0         0.0     0.000000    0.000000  \n3             0.0   0.000000         0.0         0.0     0.000000    0.000000  \n4             0.0   0.000000         0.0         0.0     0.000000    0.000000  \n...           ...        ...         ...         ...          ...         ...  \n110575       23.0  11.789826        41.0       -25.0    -2.666667   37.819748  \n110576        0.0   0.000000         0.0         0.0     0.000000    0.000000  \n110577        0.0   0.000000         0.0         0.0     0.000000    0.000000  \n110578       48.0   0.000000       -36.0       -36.0   -36.000000    0.000000  \n110579        0.0   0.000000         0.0         0.0     0.000000    0.000000  \n\n[110580 rows x 234 columns]",
      "text/html": "<div>\n<style scoped>\n    .dataframe tbody tr th:only-of-type {\n        vertical-align: middle;\n    }\n\n    .dataframe tbody tr th {\n        vertical-align: top;\n    }\n\n    .dataframe thead th {\n        text-align: right;\n    }\n</style>\n<table border=\"1\" class=\"dataframe\">\n  <thead>\n    <tr style=\"text-align: right;\">\n      <th></th>\n      <th>geohash_id</th>\n      <th>date_id</th>\n      <th>F_1</th>\n      <th>F_2</th>\n      <th>F_3</th>\n      <th>F_4</th>\n      <th>F_5</th>\n      <th>F_6</th>\n      <th>F_7</th>\n      <th>F_8</th>\n      <th>...</th>\n      <th>F_1mean_y</th>\n      <th>F_1std_y</th>\n      <th>F_2max_y</th>\n      <th>F_2min_y</th>\n      <th>F_2mean_y</th>\n      <th>F_2std_y</th>\n      <th>F1-F2max_y</th>\n      <th>F1-F2min_y</th>\n      <th>F1-F2mean_y</th>\n      <th>F1-F2std_y</th>\n    </tr>\n  </thead>\n  <tbody>\n    <tr>\n      <th>0</th>\n      <td>0</td>\n      <td>2023-01-04</td>\n      <td>-0.582</td>\n      <td>-0.592</td>\n      <td>-0.592</td>\n      <td>-0.480</td>\n      <td>-0.500</td>\n      <td>-0.562</td>\n      <td>0.066</td>\n      <td>0.113</td>\n      <td>...</td>\n      <td>1.000000</td>\n      <td>0.000000</td>\n      <td>39.0</td>\n      <td>20.0</td>\n      <td>29.5</td>\n      <td>13.435029</td>\n      <td>-19.0</td>\n      <td>-38.0</td>\n      <td>-28.500000</td>\n      <td>13.435029</td>\n    </tr>\n    <tr>\n      <th>1</th>\n      <td>1</td>\n      <td>2023-01-04</td>\n      <td>1.392</td>\n      <td>1.389</td>\n      <td>1.230</td>\n      <td>1.028</td>\n      <td>1.122</td>\n      <td>1.385</td>\n      <td>0.966</td>\n      <td>0.588</td>\n      <td>...</td>\n      <td>0.000000</td>\n      <td>0.000000</td>\n      <td>0.0</td>\n      <td>0.0</td>\n      <td>0.0</td>\n      <td>0.000000</td>\n      <td>0.0</td>\n      <td>0.0</td>\n      <td>0.000000</td>\n      <td>0.000000</td>\n    </tr>\n    <tr>\n      <th>2</th>\n      <td>2</td>\n      <td>2023-01-04</td>\n      <td>-0.904</td>\n      <td>-0.914</td>\n      <td>-0.992</td>\n      <td>-0.896</td>\n      <td>-0.911</td>\n      <td>-0.926</td>\n      <td>2.127</td>\n      <td>3.444</td>\n      <td>...</td>\n      <td>0.000000</td>\n      <td>0.000000</td>\n      <td>0.0</td>\n      <td>0.0</td>\n      <td>0.0</td>\n      <td>0.000000</td>\n      <td>0.0</td>\n      <td>0.0</td>\n      <td>0.000000</td>\n      <td>0.000000</td>\n    </tr>\n    <tr>\n      <th>3</th>\n      <td>3</td>\n      <td>2023-01-04</td>\n      <td>-0.850</td>\n      <td>-0.839</td>\n      <td>-0.740</td>\n      <td>-0.854</td>\n      <td>-0.881</td>\n      <td>-0.911</td>\n      <td>0.822</td>\n      <td>2.162</td>\n      <td>...</td>\n      <td>0.000000</td>\n      <td>0.000000</td>\n      <td>0.0</td>\n      <td>0.0</td>\n      <td>0.0</td>\n      <td>0.000000</td>\n      <td>0.0</td>\n      <td>0.0</td>\n      <td>0.000000</td>\n      <td>0.000000</td>\n    </tr>\n    <tr>\n      <th>4</th>\n      <td>4</td>\n      <td>2023-01-04</td>\n      <td>-1.033</td>\n      <td>-1.079</td>\n      <td>-1.041</td>\n      <td>-0.987</td>\n      <td>-0.994</td>\n      <td>-1.030</td>\n      <td>0.875</td>\n      <td>0.989</td>\n      <td>...</td>\n      <td>0.000000</td>\n      <td>0.000000</td>\n      <td>0.0</td>\n      <td>0.0</td>\n      <td>0.0</td>\n      <td>0.000000</td>\n      <td>0.0</td>\n      <td>0.0</td>\n      <td>0.000000</td>\n      <td>0.000000</td>\n    </tr>\n    <tr>\n      <th>...</th>\n      <td>...</td>\n      <td>...</td>\n      <td>...</td>\n      <td>...</td>\n      <td>...</td>\n      <td>...</td>\n      <td>...</td>\n      <td>...</td>\n      <td>...</td>\n      <td>...</td>\n      <td>...</td>\n      <td>...</td>\n      <td>...</td>\n      <td>...</td>\n      <td>...</td>\n      <td>...</td>\n      <td>...</td>\n      <td>...</td>\n      <td>...</td>\n      <td>...</td>\n      <td>...</td>\n    </tr>\n    <tr>\n      <th>110575</th>\n      <td>1135</td>\n      <td>2023-04-10</td>\n      <td>1.748</td>\n      <td>1.776</td>\n      <td>2.266</td>\n      <td>1.240</td>\n      <td>1.131</td>\n      <td>1.340</td>\n      <td>0.305</td>\n      <td>-0.014</td>\n      <td>...</td>\n      <td>20.333333</td>\n      <td>26.857649</td>\n      <td>33.0</td>\n      <td>10.0</td>\n      <td>23.0</td>\n      <td>11.789826</td>\n      <td>41.0</td>\n      <td>-25.0</td>\n      <td>-2.666667</td>\n      <td>37.819748</td>\n    </tr>\n    <tr>\n      <th>110576</th>\n      <td>1136</td>\n      <td>2023-04-10</td>\n      <td>-1.072</td>\n      <td>-1.123</td>\n      <td>-1.103</td>\n      <td>-1.018</td>\n      <td>-1.041</td>\n      <td>-1.064</td>\n      <td>0.112</td>\n      <td>-0.200</td>\n      <td>...</td>\n      <td>0.000000</td>\n      <td>0.000000</td>\n      <td>0.0</td>\n      <td>0.0</td>\n      <td>0.0</td>\n      <td>0.000000</td>\n      <td>0.0</td>\n      <td>0.0</td>\n      <td>0.000000</td>\n      <td>0.000000</td>\n    </tr>\n    <tr>\n      <th>110577</th>\n      <td>1137</td>\n      <td>2023-04-10</td>\n      <td>-0.656</td>\n      <td>-0.665</td>\n      <td>-0.706</td>\n      <td>-0.623</td>\n      <td>-0.612</td>\n      <td>-0.679</td>\n      <td>0.766</td>\n      <td>0.965</td>\n      <td>...</td>\n      <td>0.000000</td>\n      <td>0.000000</td>\n      <td>0.0</td>\n      <td>0.0</td>\n      <td>0.0</td>\n      <td>0.000000</td>\n      <td>0.0</td>\n      <td>0.0</td>\n      <td>0.000000</td>\n      <td>0.000000</td>\n    </tr>\n    <tr>\n      <th>110578</th>\n      <td>1138</td>\n      <td>2023-04-10</td>\n      <td>-0.556</td>\n      <td>-0.583</td>\n      <td>-0.568</td>\n      <td>-0.567</td>\n      <td>-0.597</td>\n      <td>-0.694</td>\n      <td>2.444</td>\n      <td>2.317</td>\n      <td>...</td>\n      <td>12.000000</td>\n      <td>0.000000</td>\n      <td>48.0</td>\n      <td>48.0</td>\n      <td>48.0</td>\n      <td>0.000000</td>\n      <td>-36.0</td>\n      <td>-36.0</td>\n      <td>-36.000000</td>\n      <td>0.000000</td>\n    </tr>\n    <tr>\n      <th>110579</th>\n      <td>1139</td>\n      <td>2023-04-10</td>\n      <td>-1.115</td>\n      <td>-1.166</td>\n      <td>-1.144</td>\n      <td>-1.043</td>\n      <td>-1.064</td>\n      <td>-1.096</td>\n      <td>-1.965</td>\n      <td>-0.423</td>\n      <td>...</td>\n      <td>0.000000</td>\n      <td>0.000000</td>\n      <td>0.0</td>\n      <td>0.0</td>\n      <td>0.0</td>\n      <td>0.000000</td>\n      <td>0.0</td>\n      <td>0.0</td>\n      <td>0.000000</td>\n      <td>0.000000</td>\n    </tr>\n  </tbody>\n</table>\n<p>110580 rows × 234 columns</p>\n</div>"
     },
     "execution_count": 6,
     "metadata": {},
     "output_type": "execute_result"
    }
   ],
   "source": [
    "set_train = list(np.sort(all_nodes['geohash_id'].unique()))\n",
    "set_map = {}\n",
    "for index, i in enumerate(set_train):\n",
    "    set_map[i] = index\n",
    "all_nodes['geohash_id'] = all_nodes['geohash_id'].map(set_map)\n",
    "all_nodes"
   ]
  },
  {
   "cell_type": "markdown",
   "metadata": {
    "pycharm": {
     "name": "#%% md\n"
    }
   },
   "source": [
    "#### 数据标准化"
   ]
  },
  {
   "cell_type": "code",
   "execution_count": 7,
   "metadata": {
    "collapsed": false,
    "pycharm": {
     "name": "#%%\n"
    },
    "ExecuteTime": {
     "end_time": "2023-12-12T05:46:55.020463600Z",
     "start_time": "2023-12-12T05:46:54.048279400Z"
    }
   },
   "outputs": [
    {
     "data": {
      "text/plain": "        geohash_id    date_id    F_1    F_2    F_3    F_4    F_5    F_6  \\\n0                0 2023-01-04 -0.582 -0.592 -0.592 -0.480 -0.500 -0.562   \n1                1 2023-01-04  1.392  1.389  1.230  1.028  1.122  1.385   \n2                2 2023-01-04 -0.904 -0.914 -0.992 -0.896 -0.911 -0.926   \n3                3 2023-01-04 -0.850 -0.839 -0.740 -0.854 -0.881 -0.911   \n4                4 2023-01-04 -1.033 -1.079 -1.041 -0.987 -0.994 -1.030   \n...            ...        ...    ...    ...    ...    ...    ...    ...   \n110575        1135 2023-04-10  1.748  1.776  2.266  1.240  1.131  1.340   \n110576        1136 2023-04-10 -1.072 -1.123 -1.103 -1.018 -1.041 -1.064   \n110577        1137 2023-04-10 -0.656 -0.665 -0.706 -0.623 -0.612 -0.679   \n110578        1138 2023-04-10 -0.556 -0.583 -0.568 -0.567 -0.597 -0.694   \n110579        1139 2023-04-10 -1.115 -1.166 -1.144 -1.043 -1.064 -1.096   \n\n          F_7    F_8  ...  F_1mean_y  F_1std_y  F_2max_y  F_2min_y  F_2mean_y  \\\n0       0.066  0.113  ...  -0.113598 -0.096712  1.245980  0.646512   1.040350   \n1       0.966  0.588  ...  -0.116802 -0.096712 -0.914164 -0.759979  -0.896432   \n2       2.127  3.444  ...  -0.116802 -0.096712 -0.914164 -0.759979  -0.896432   \n3       0.822  2.162  ...  -0.116802 -0.096712 -0.914164 -0.759979  -0.896432   \n4       0.875  0.989  ...  -0.116802 -0.096712 -0.914164 -0.759979  -0.896432   \n...       ...    ...  ...        ...       ...       ...       ...        ...   \n110575  0.305 -0.014  ...  -0.051641  0.009651  0.913650 -0.056733   0.613601   \n110576  0.112 -0.200  ...  -0.116802 -0.096712 -0.914164 -0.759979  -0.896432   \n110577  0.766  0.965  ...  -0.116802 -0.096712 -0.914164 -0.759979  -0.896432   \n110578  2.444  2.317  ...  -0.078347 -0.096712  1.744475  2.615600   2.254941   \n110579 -1.965 -0.423  ...  -0.116802 -0.096712 -0.914164 -0.759979  -0.896432   \n\n        F_2std_y  F1-F2max_y  F1-F2min_y  F1-F2mean_y  F1-F2std_y  \n0       1.502895   -0.139521   -0.163076    -0.164838   -0.050449  \n1      -0.499454   -0.100419   -0.019736    -0.073251   -0.103653  \n2      -0.499454   -0.100419   -0.019736    -0.073251   -0.103653  \n3      -0.499454   -0.100419   -0.019736    -0.073251   -0.103653  \n4      -0.499454   -0.100419   -0.019736    -0.073251   -0.103653  \n...          ...         ...         ...          ...         ...  \n110575  1.257695   -0.016041   -0.114039    -0.081820    0.046115  \n110576 -0.499454   -0.100419   -0.019736    -0.073251   -0.103653  \n110577 -0.499454   -0.100419   -0.019736    -0.073251   -0.103653  \n110578 -0.499454   -0.174506   -0.155532    -0.188940   -0.103653  \n110579 -0.499454   -0.100419   -0.019736    -0.073251   -0.103653  \n\n[110580 rows x 234 columns]",
      "text/html": "<div>\n<style scoped>\n    .dataframe tbody tr th:only-of-type {\n        vertical-align: middle;\n    }\n\n    .dataframe tbody tr th {\n        vertical-align: top;\n    }\n\n    .dataframe thead th {\n        text-align: right;\n    }\n</style>\n<table border=\"1\" class=\"dataframe\">\n  <thead>\n    <tr style=\"text-align: right;\">\n      <th></th>\n      <th>geohash_id</th>\n      <th>date_id</th>\n      <th>F_1</th>\n      <th>F_2</th>\n      <th>F_3</th>\n      <th>F_4</th>\n      <th>F_5</th>\n      <th>F_6</th>\n      <th>F_7</th>\n      <th>F_8</th>\n      <th>...</th>\n      <th>F_1mean_y</th>\n      <th>F_1std_y</th>\n      <th>F_2max_y</th>\n      <th>F_2min_y</th>\n      <th>F_2mean_y</th>\n      <th>F_2std_y</th>\n      <th>F1-F2max_y</th>\n      <th>F1-F2min_y</th>\n      <th>F1-F2mean_y</th>\n      <th>F1-F2std_y</th>\n    </tr>\n  </thead>\n  <tbody>\n    <tr>\n      <th>0</th>\n      <td>0</td>\n      <td>2023-01-04</td>\n      <td>-0.582</td>\n      <td>-0.592</td>\n      <td>-0.592</td>\n      <td>-0.480</td>\n      <td>-0.500</td>\n      <td>-0.562</td>\n      <td>0.066</td>\n      <td>0.113</td>\n      <td>...</td>\n      <td>-0.113598</td>\n      <td>-0.096712</td>\n      <td>1.245980</td>\n      <td>0.646512</td>\n      <td>1.040350</td>\n      <td>1.502895</td>\n      <td>-0.139521</td>\n      <td>-0.163076</td>\n      <td>-0.164838</td>\n      <td>-0.050449</td>\n    </tr>\n    <tr>\n      <th>1</th>\n      <td>1</td>\n      <td>2023-01-04</td>\n      <td>1.392</td>\n      <td>1.389</td>\n      <td>1.230</td>\n      <td>1.028</td>\n      <td>1.122</td>\n      <td>1.385</td>\n      <td>0.966</td>\n      <td>0.588</td>\n      <td>...</td>\n      <td>-0.116802</td>\n      <td>-0.096712</td>\n      <td>-0.914164</td>\n      <td>-0.759979</td>\n      <td>-0.896432</td>\n      <td>-0.499454</td>\n      <td>-0.100419</td>\n      <td>-0.019736</td>\n      <td>-0.073251</td>\n      <td>-0.103653</td>\n    </tr>\n    <tr>\n      <th>2</th>\n      <td>2</td>\n      <td>2023-01-04</td>\n      <td>-0.904</td>\n      <td>-0.914</td>\n      <td>-0.992</td>\n      <td>-0.896</td>\n      <td>-0.911</td>\n      <td>-0.926</td>\n      <td>2.127</td>\n      <td>3.444</td>\n      <td>...</td>\n      <td>-0.116802</td>\n      <td>-0.096712</td>\n      <td>-0.914164</td>\n      <td>-0.759979</td>\n      <td>-0.896432</td>\n      <td>-0.499454</td>\n      <td>-0.100419</td>\n      <td>-0.019736</td>\n      <td>-0.073251</td>\n      <td>-0.103653</td>\n    </tr>\n    <tr>\n      <th>3</th>\n      <td>3</td>\n      <td>2023-01-04</td>\n      <td>-0.850</td>\n      <td>-0.839</td>\n      <td>-0.740</td>\n      <td>-0.854</td>\n      <td>-0.881</td>\n      <td>-0.911</td>\n      <td>0.822</td>\n      <td>2.162</td>\n      <td>...</td>\n      <td>-0.116802</td>\n      <td>-0.096712</td>\n      <td>-0.914164</td>\n      <td>-0.759979</td>\n      <td>-0.896432</td>\n      <td>-0.499454</td>\n      <td>-0.100419</td>\n      <td>-0.019736</td>\n      <td>-0.073251</td>\n      <td>-0.103653</td>\n    </tr>\n    <tr>\n      <th>4</th>\n      <td>4</td>\n      <td>2023-01-04</td>\n      <td>-1.033</td>\n      <td>-1.079</td>\n      <td>-1.041</td>\n      <td>-0.987</td>\n      <td>-0.994</td>\n      <td>-1.030</td>\n      <td>0.875</td>\n      <td>0.989</td>\n      <td>...</td>\n      <td>-0.116802</td>\n      <td>-0.096712</td>\n      <td>-0.914164</td>\n      <td>-0.759979</td>\n      <td>-0.896432</td>\n      <td>-0.499454</td>\n      <td>-0.100419</td>\n      <td>-0.019736</td>\n      <td>-0.073251</td>\n      <td>-0.103653</td>\n    </tr>\n    <tr>\n      <th>...</th>\n      <td>...</td>\n      <td>...</td>\n      <td>...</td>\n      <td>...</td>\n      <td>...</td>\n      <td>...</td>\n      <td>...</td>\n      <td>...</td>\n      <td>...</td>\n      <td>...</td>\n      <td>...</td>\n      <td>...</td>\n      <td>...</td>\n      <td>...</td>\n      <td>...</td>\n      <td>...</td>\n      <td>...</td>\n      <td>...</td>\n      <td>...</td>\n      <td>...</td>\n      <td>...</td>\n    </tr>\n    <tr>\n      <th>110575</th>\n      <td>1135</td>\n      <td>2023-04-10</td>\n      <td>1.748</td>\n      <td>1.776</td>\n      <td>2.266</td>\n      <td>1.240</td>\n      <td>1.131</td>\n      <td>1.340</td>\n      <td>0.305</td>\n      <td>-0.014</td>\n      <td>...</td>\n      <td>-0.051641</td>\n      <td>0.009651</td>\n      <td>0.913650</td>\n      <td>-0.056733</td>\n      <td>0.613601</td>\n      <td>1.257695</td>\n      <td>-0.016041</td>\n      <td>-0.114039</td>\n      <td>-0.081820</td>\n      <td>0.046115</td>\n    </tr>\n    <tr>\n      <th>110576</th>\n      <td>1136</td>\n      <td>2023-04-10</td>\n      <td>-1.072</td>\n      <td>-1.123</td>\n      <td>-1.103</td>\n      <td>-1.018</td>\n      <td>-1.041</td>\n      <td>-1.064</td>\n      <td>0.112</td>\n      <td>-0.200</td>\n      <td>...</td>\n      <td>-0.116802</td>\n      <td>-0.096712</td>\n      <td>-0.914164</td>\n      <td>-0.759979</td>\n      <td>-0.896432</td>\n      <td>-0.499454</td>\n      <td>-0.100419</td>\n      <td>-0.019736</td>\n      <td>-0.073251</td>\n      <td>-0.103653</td>\n    </tr>\n    <tr>\n      <th>110577</th>\n      <td>1137</td>\n      <td>2023-04-10</td>\n      <td>-0.656</td>\n      <td>-0.665</td>\n      <td>-0.706</td>\n      <td>-0.623</td>\n      <td>-0.612</td>\n      <td>-0.679</td>\n      <td>0.766</td>\n      <td>0.965</td>\n      <td>...</td>\n      <td>-0.116802</td>\n      <td>-0.096712</td>\n      <td>-0.914164</td>\n      <td>-0.759979</td>\n      <td>-0.896432</td>\n      <td>-0.499454</td>\n      <td>-0.100419</td>\n      <td>-0.019736</td>\n      <td>-0.073251</td>\n      <td>-0.103653</td>\n    </tr>\n    <tr>\n      <th>110578</th>\n      <td>1138</td>\n      <td>2023-04-10</td>\n      <td>-0.556</td>\n      <td>-0.583</td>\n      <td>-0.568</td>\n      <td>-0.567</td>\n      <td>-0.597</td>\n      <td>-0.694</td>\n      <td>2.444</td>\n      <td>2.317</td>\n      <td>...</td>\n      <td>-0.078347</td>\n      <td>-0.096712</td>\n      <td>1.744475</td>\n      <td>2.615600</td>\n      <td>2.254941</td>\n      <td>-0.499454</td>\n      <td>-0.174506</td>\n      <td>-0.155532</td>\n      <td>-0.188940</td>\n      <td>-0.103653</td>\n    </tr>\n    <tr>\n      <th>110579</th>\n      <td>1139</td>\n      <td>2023-04-10</td>\n      <td>-1.115</td>\n      <td>-1.166</td>\n      <td>-1.144</td>\n      <td>-1.043</td>\n      <td>-1.064</td>\n      <td>-1.096</td>\n      <td>-1.965</td>\n      <td>-0.423</td>\n      <td>...</td>\n      <td>-0.116802</td>\n      <td>-0.096712</td>\n      <td>-0.914164</td>\n      <td>-0.759979</td>\n      <td>-0.896432</td>\n      <td>-0.499454</td>\n      <td>-0.100419</td>\n      <td>-0.019736</td>\n      <td>-0.073251</td>\n      <td>-0.103653</td>\n    </tr>\n  </tbody>\n</table>\n<p>110580 rows × 234 columns</p>\n</div>"
     },
     "execution_count": 7,
     "metadata": {},
     "output_type": "execute_result"
    }
   ],
   "source": [
    "### F1~F35不标准化\n",
    "from sklearn.preprocessing import StandardScaler\n",
    "\n",
    "scaler_x = StandardScaler()\n",
    "all_nodes.loc[:, proc_features] = scaler_x.fit_transform(all_nodes.loc[:, proc_features])\n",
    "all_nodes"
   ]
  },
  {
   "cell_type": "markdown",
   "metadata": {
    "pycharm": {
     "name": "#%% md\n"
    }
   },
   "source": [
    "### 创建dataset"
   ]
  },
  {
   "cell_type": "code",
   "execution_count": 8,
   "metadata": {
    "collapsed": false,
    "pycharm": {
     "name": "#%%\n"
    },
    "ExecuteTime": {
     "end_time": "2023-12-12T05:47:37.799071200Z",
     "start_time": "2023-12-12T05:47:37.472672300Z"
    }
   },
   "outputs": [],
   "source": [
    "from torch.utils.data import Dataset, DataLoader\n",
    "\n",
    "\n",
    "#组织为1140个97*特征维数的数据集\n",
    "class DayDataset(Dataset):\n",
    "    def __init__(self, data, days, window_size):\n",
    "        # 总数 * 特征维数\n",
    "        self.data = data.sort_values([\"geohash_id\", \"date_id\"])\n",
    "        self.features = torch.tensor(self.data[[\"geohash_id\"] + all_features].values, dtype=torch.float32)\n",
    "        self.labels = torch.tensor(self.data[[\"active_index\", \"consume_index\"]].values, dtype=torch.float32)\n",
    "\n",
    "        #将tensor转化为1140 * 天数 * 特征维数\n",
    "        self.features_stack = torch.stack([self.features[i:i + days] for i in range(0, self.features.shape[0], days)])\n",
    "        self.labels_stack = torch.stack([self.labels[i:i + days] for i in range(0, self.labels.shape[0], days)])\n",
    "\n",
    "        #转化为81个1140 * 14 * 特征维数\n",
    "        step = 1\n",
    "        self.data_list = []\n",
    "        self.label_list = []\n",
    "        for i in range(0, 97 - window_size + 1, step):\n",
    "            data_temp = self.features_stack[:, i:i + window_size, :]\n",
    "            label_temp = self.labels_stack[:, i:i + window_size, :]\n",
    "            self.data_list.append(data_temp)\n",
    "            self.label_list.append(label_temp)\n",
    "\n",
    "        #转化为81*1140，14，特征维数\n",
    "        self.train = torch.cat(self.data_list[:-7], dim=0)\n",
    "        self.test = torch.cat(self.data_list[-3:], dim=0)\n",
    "\n",
    "        self.labels = torch.cat(self.label_list[:-7], dim=0)\n",
    "\n",
    "    def __getitem__(self, index):\n",
    "        return self.train[index, :, :], self.labels[index, :, :]\n",
    "\n",
    "    def __len__(self):\n",
    "        return self.train.shape[0]\n",
    "\n",
    "\n",
    "my_dataset = DayDataset(all_nodes, 97, 14)"
   ]
  },
  {
   "cell_type": "code",
   "execution_count": 9,
   "metadata": {
    "collapsed": false,
    "pycharm": {
     "name": "#%%\n"
    },
    "ExecuteTime": {
     "end_time": "2023-12-12T05:47:38.539165300Z",
     "start_time": "2023-12-12T05:47:38.518327700Z"
    }
   },
   "outputs": [
    {
     "data": {
      "text/plain": "torch.Size([3420, 14, 231])"
     },
     "execution_count": 9,
     "metadata": {},
     "output_type": "execute_result"
    }
   ],
   "source": [
    "my_dataset.test.shape"
   ]
  },
  {
   "cell_type": "code",
   "execution_count": 10,
   "metadata": {
    "collapsed": false,
    "pycharm": {
     "name": "#%%\n"
    },
    "ExecuteTime": {
     "end_time": "2023-12-12T05:47:39.281600800Z",
     "start_time": "2023-12-12T05:47:39.270826900Z"
    }
   },
   "outputs": [
    {
     "data": {
      "text/plain": "0"
     },
     "execution_count": 10,
     "metadata": {},
     "output_type": "execute_result"
    }
   ],
   "source": [
    "#检查标签是否正确\n",
    "sum = 0\n",
    "for index, i in enumerate(my_dataset.label_list):\n",
    "    has_nan = torch.isnan(i)\n",
    "    if torch.any(has_nan).item():\n",
    "        print(index)\n",
    "        sum += 1\n",
    "sum"
   ]
  },
  {
   "cell_type": "markdown",
   "metadata": {
    "pycharm": {
     "name": "#%% md\n"
    }
   },
   "source": [
    "### 网络搭建"
   ]
  },
  {
   "cell_type": "markdown",
   "metadata": {
    "pycharm": {
     "name": "#%% md\n"
    }
   },
   "source": [
    "### CNN"
   ]
  },
  {
   "cell_type": "code",
   "execution_count": 11,
   "metadata": {
    "collapsed": false,
    "pycharm": {
     "name": "#%%\n"
    },
    "ExecuteTime": {
     "end_time": "2023-12-12T05:47:42.118937100Z",
     "start_time": "2023-12-12T05:47:42.094451300Z"
    }
   },
   "outputs": [
    {
     "data": {
      "text/plain": "torch.Size([64, 2])"
     },
     "execution_count": 11,
     "metadata": {},
     "output_type": "execute_result"
    }
   ],
   "source": [
    "class CNN(nn.Module):\n",
    "    def __init__(self, input_size, class_size, hidden_size, num_layers):\n",
    "        super().__init__()\n",
    "        self.conv1 = nn.Sequential(\n",
    "            nn.Conv1d(in_channels=input_size, out_channels=64, kernel_size=2),\n",
    "            nn.BatchNorm1d(64),\n",
    "            nn.ReLU(),\n",
    "            nn.Conv1d(in_channels=64, out_channels=hidden_size, kernel_size=2),\n",
    "            nn.ReLU()\n",
    "        )\n",
    "        self.conv2 = nn.Sequential(nn.Conv1d(in_channels=input_size, out_channels=hidden_size, kernel_size=1))\n",
    "        self.init_linear = nn.Linear(class_size, 64)\n",
    "        self.lstm = nn.LSTM(hidden_size, hidden_size, num_layers, batch_first=True, dropout=0.5)\n",
    "        self.embedding = nn.Embedding(1140, 10)\n",
    "        self.linear1 = nn.Sequential(\n",
    "            nn.Linear(1664, 32),\n",
    "            nn.Linear(32, 1)\n",
    "        )\n",
    "        self.linear2 = nn.Sequential(\n",
    "            nn.Linear(1664, 32),\n",
    "            nn.Linear(32, 1)\n",
    "        )\n",
    "\n",
    "    def forward(self, x):  # batch * 14 * 207\n",
    "        ## 处理类别特征\n",
    "        x_c = x[:, :, 0].long()\n",
    "        x_c = self.embedding(x_c)  # batch * 14 * 10\n",
    "        x = torch.cat([x_c, x[:, :, 1:]], dim=2)  # batch * 14 * 207-1+10\n",
    "        #print(x.shape)\n",
    "\n",
    "        x1 = x.permute(0, 2, 1)  # batch * 216 * 14\n",
    "        x1 = self.conv1(x1)  # batch * 64  * 12   卷积核size为2说明在14天以每相邻两天为核，得到12个特征\n",
    "\n",
    "        x2 = x.permute(0, 2, 1)  # batch * 216 * 14\n",
    "        x2 = self.conv2(x2)  # batch * 64  * 14\n",
    "\n",
    "        x3 = torch.cat([x1, x2], dim=2)  # batch * 64 * 26\n",
    "        x3 = x3.reshape(x3.shape[0], -1)  # batch * 1664\n",
    "\n",
    "        # x = x.permute(0,2,1)  # batch * 12 * 64\n",
    "        # x, _ = self.lstm(x)   # batch * 12 * 64\n",
    "        # x = x[:,-1,:]         # batch * 64\n",
    "\n",
    "        x_active = self.linear1(x3)  # 得到1天的active预测结果\n",
    "        x_consume = self.linear2(x3)  # 得到1天的consume预测结果\n",
    "\n",
    "        return torch.cat([x_active, x_consume], dim=1)\n",
    "\n",
    "\n",
    "class_size = 43  #原始特征数量，33 + 10\n",
    "input_size = 207 - 1 + 10  #总特征数\n",
    "hidden_size = 64\n",
    "num_layers = 2\n",
    "model = CNN(input_size, class_size, hidden_size, num_layers)\n",
    "shape = (64, 14, 207)\n",
    "x = torch.randint(0, 1024, shape)\n",
    "output = model(x)\n",
    "output.shape"
   ]
  },
  {
   "cell_type": "markdown",
   "metadata": {
    "pycharm": {
     "name": "#%% md\n"
    }
   },
   "source": [
    "#### CNN训练"
   ]
  },
  {
   "cell_type": "code",
   "execution_count": 12,
   "metadata": {
    "collapsed": false,
    "pycharm": {
     "name": "#%%\n"
    },
    "ExecuteTime": {
     "end_time": "2023-12-12T05:47:48.338776100Z",
     "start_time": "2023-12-12T05:47:43.473653400Z"
    }
   },
   "outputs": [],
   "source": [
    "from torch.utils.data.dataset import random_split\n",
    "from torch.optim.lr_scheduler import ReduceLROnPlateau\n",
    "\n",
    "##超参数设置\n",
    "class_size = 43  # 类别特征\n",
    "input_size = 231 - 1 + 10  # 特征维度\n",
    "hidden_size = 64  # 可以根据实际情况调整\n",
    "num_layers = 2\n",
    "batch_size = 64\n",
    "\n",
    "##模型调整\n",
    "device = torch.device(\"cuda\" if torch.cuda.is_available() else \"cpu\")\n",
    "model = CNN(input_size, class_size, hidden_size, num_layers).to(device)\n",
    "num_epochs = 200\n",
    "optimizer = optim.Adam(model.parameters(), lr=0.001, betas=(0.5, 0.999))\n",
    "scheduler = ReduceLROnPlateau(optimizer, mode='min', factor=0.2, patience=4, verbose=True)\n",
    "criterion = nn.MSELoss()\n",
    "\n",
    "##数据组织\n",
    "my_dataset = DayDataset(all_nodes, 97, 14)\n",
    "train_size = int(0.8 * len(my_dataset))\n",
    "val_size = len(my_dataset) - train_size\n",
    "\n",
    "train_dataset, val_dataset = random_split(my_dataset, [train_size, val_size])\n",
    "train_loader, val_loader = DataLoader(train_dataset, batch_size=batch_size, shuffle=True), DataLoader(val_dataset,\n",
    "                                                                                                      batch_size=batch_size,\n",
    "                                                                                                      shuffle=True)"
   ]
  },
  {
   "cell_type": "code",
   "execution_count": 13,
   "metadata": {
    "collapsed": false,
    "pycharm": {
     "name": "#%%\n"
    },
    "ExecuteTime": {
     "end_time": "2023-12-12T05:47:59.772478400Z",
     "start_time": "2023-12-12T05:47:59.749395800Z"
    }
   },
   "outputs": [
    {
     "data": {
      "text/plain": "(70224, 17556, 1098, 275)"
     },
     "execution_count": 13,
     "metadata": {},
     "output_type": "execute_result"
    }
   ],
   "source": [
    "len(train_dataset), len(val_dataset), len(train_loader), len(val_loader)"
   ]
  },
  {
   "cell_type": "code",
   "execution_count": 14,
   "outputs": [
    {
     "data": {
      "text/plain": "torch.Size([64, 14, 231])"
     },
     "execution_count": 14,
     "metadata": {},
     "output_type": "execute_result"
    }
   ],
   "source": [
    "next(iter(train_loader))[0].shape"
   ],
   "metadata": {
    "collapsed": false,
    "pycharm": {
     "name": "#%%\n"
    },
    "ExecuteTime": {
     "end_time": "2023-12-12T05:48:00.455666700Z",
     "start_time": "2023-12-12T05:48:00.445833Z"
    }
   }
  },
  {
   "cell_type": "code",
   "execution_count": 15,
   "outputs": [
    {
     "data": {
      "text/plain": "tensor([[ 52.2538,  61.8222],\n        [ 95.2515, 122.9317],\n        [119.8708, 102.5638],\n        [118.4260,  87.0681],\n        [154.8870, 122.7690],\n        [ 59.9093, 196.9474],\n        [ 28.0710, 103.7866],\n        [ 76.8084, 147.5471],\n        [ 87.9055, 106.6543],\n        [112.2685, 126.9071],\n        [ 17.5610, 214.0840],\n        [ 61.8440, 156.7495],\n        [ 64.6358, 132.2232],\n        [ 74.4922, 191.0642],\n        [ 62.7003, 163.3676],\n        [ 62.4738, 105.2073],\n        [156.8747, 143.9776],\n        [ 28.8233, 143.5929],\n        [ 94.0079,  72.2786],\n        [ 37.3318, 140.2298],\n        [ 71.3870,  99.5455],\n        [ 97.3093,  90.7723],\n        [129.1301, 165.1569],\n        [ 28.1726, 185.8520],\n        [ 76.3485, 137.5963],\n        [121.1125, 109.3302],\n        [107.4851,  64.1659],\n        [127.4023,  71.4265],\n        [ 12.6730,  63.7823],\n        [ 79.5080, 165.5534],\n        [ 24.3060, 152.9968],\n        [ 80.6626,  95.1842],\n        [ 38.1869,  72.6319],\n        [ 40.9187, 118.4424],\n        [133.2017,  73.5806],\n        [ 34.9796,  94.4475],\n        [ 43.7358, 111.7289],\n        [153.4547, 131.6503],\n        [ 46.3369,  73.4137],\n        [ 29.0786,  79.5046],\n        [ 93.6274, 100.1593],\n        [ 89.8826, 165.7608],\n        [ -5.7434, 109.0325],\n        [123.8071, 152.5951],\n        [ 52.0095,  86.3159],\n        [ 12.8457, 107.2542],\n        [150.7566,  78.3639],\n        [124.7200, 102.5503],\n        [125.0655, 167.6036],\n        [ 61.5892, 153.2923],\n        [ 29.7688, 150.5583],\n        [ 69.5952, 125.3991],\n        [ 82.9563, 122.8620],\n        [117.8396,  47.4134],\n        [121.9466, 135.0540],\n        [101.8831, 107.8054],\n        [ 75.1210, 101.7984],\n        [107.3491, 107.0971],\n        [ 80.0790, 121.2450],\n        [138.7570, 163.7314],\n        [ 89.3838,  99.6261],\n        [107.4703, 112.6812],\n        [154.0065, 182.1052],\n        [ 76.9856,  96.9262]], grad_fn=<CatBackward0>)"
     },
     "execution_count": 15,
     "metadata": {},
     "output_type": "execute_result"
    }
   ],
   "source": [
    "output"
   ],
   "metadata": {
    "collapsed": false,
    "pycharm": {
     "name": "#%%\n"
    },
    "ExecuteTime": {
     "end_time": "2023-12-12T05:48:01.096198400Z",
     "start_time": "2023-12-12T05:48:01.063021800Z"
    }
   }
  },
  {
   "cell_type": "code",
   "execution_count": 16,
   "metadata": {
    "collapsed": false,
    "pycharm": {
     "name": "#%%\n"
    },
    "ExecuteTime": {
     "end_time": "2023-12-12T05:48:02.049905600Z",
     "start_time": "2023-12-12T05:48:02.030375700Z"
    }
   },
   "outputs": [],
   "source": [
    "# temp = next((iter(train_loader)))\n",
    "# temp_data,temp_label = temp[0],temp[1]\n",
    "# temp_data.shape,temp_label.shape"
   ]
  },
  {
   "cell_type": "code",
   "execution_count": 17,
   "metadata": {
    "collapsed": false,
    "pycharm": {
     "name": "#%%\n"
    },
    "ExecuteTime": {
     "end_time": "2023-12-12T05:59:23.823888800Z",
     "start_time": "2023-12-12T05:48:02.928168500Z"
    }
   },
   "outputs": [
    {
     "name": "stderr",
     "output_type": "stream",
     "text": [
      "  2%|▎         | 5/200 [00:19<12:06,  3.73s/it]"
     ]
    },
    {
     "name": "stdout",
     "output_type": "stream",
     "text": [
      "epoch 004 train_loss 3.34249728 val_loss 2.76619068 score 0.375\n"
     ]
    },
    {
     "name": "stderr",
     "output_type": "stream",
     "text": [
      "  5%|▌         | 10/200 [00:36<10:51,  3.43s/it]"
     ]
    },
    {
     "name": "stdout",
     "output_type": "stream",
     "text": [
      "epoch 009 train_loss 2.05173470 val_loss 1.19528913 score 0.478\n"
     ]
    },
    {
     "name": "stderr",
     "output_type": "stream",
     "text": [
      "  8%|▊         | 15/200 [00:52<09:58,  3.24s/it]"
     ]
    },
    {
     "name": "stdout",
     "output_type": "stream",
     "text": [
      "epoch 014 train_loss 1.58504166 val_loss 1.91742638 score 0.419\n"
     ]
    },
    {
     "name": "stderr",
     "output_type": "stream",
     "text": [
      " 10%|█         | 20/200 [01:08<09:55,  3.31s/it]"
     ]
    },
    {
     "name": "stdout",
     "output_type": "stream",
     "text": [
      "epoch 019 train_loss 1.05220798 val_loss 2.41271449 score 0.392\n"
     ]
    },
    {
     "name": "stderr",
     "output_type": "stream",
     "text": [
      " 12%|█▎        | 25/200 [01:23<09:12,  3.16s/it]"
     ]
    },
    {
     "name": "stdout",
     "output_type": "stream",
     "text": [
      "epoch 024 train_loss 0.65066596 val_loss 0.68279465 score 0.548\n"
     ]
    },
    {
     "name": "stderr",
     "output_type": "stream",
     "text": [
      " 15%|█▌        | 30/200 [01:43<10:38,  3.76s/it]"
     ]
    },
    {
     "name": "stdout",
     "output_type": "stream",
     "text": [
      "epoch 029 train_loss 0.59187282 val_loss 0.62112051 score 0.559\n"
     ]
    },
    {
     "name": "stderr",
     "output_type": "stream",
     "text": [
      " 18%|█▊        | 35/200 [02:01<10:09,  3.69s/it]"
     ]
    },
    {
     "name": "stdout",
     "output_type": "stream",
     "text": [
      "epoch 034 train_loss 0.59751686 val_loss 0.45103965 score 0.598\n"
     ]
    },
    {
     "name": "stderr",
     "output_type": "stream",
     "text": [
      " 20%|██        | 40/200 [02:18<09:24,  3.53s/it]"
     ]
    },
    {
     "name": "stdout",
     "output_type": "stream",
     "text": [
      "epoch 039 train_loss 0.41826554 val_loss 0.74586875 score 0.537\n"
     ]
    },
    {
     "name": "stderr",
     "output_type": "stream",
     "text": [
      " 22%|██▎       | 45/200 [02:35<09:04,  3.52s/it]"
     ]
    },
    {
     "name": "stdout",
     "output_type": "stream",
     "text": [
      "epoch 044 train_loss 0.43594926 val_loss 1.04908642 score 0.494\n"
     ]
    },
    {
     "name": "stderr",
     "output_type": "stream",
     "text": [
      " 25%|██▌       | 50/200 [02:53<08:48,  3.52s/it]"
     ]
    },
    {
     "name": "stdout",
     "output_type": "stream",
     "text": [
      "epoch 049 train_loss 0.42718486 val_loss 1.16437756 score 0.482\n"
     ]
    },
    {
     "name": "stderr",
     "output_type": "stream",
     "text": [
      " 28%|██▊       | 55/200 [03:10<08:33,  3.54s/it]"
     ]
    },
    {
     "name": "stdout",
     "output_type": "stream",
     "text": [
      "epoch 054 train_loss 0.39479710 val_loss 0.38839306 score 0.616\n"
     ]
    },
    {
     "name": "stderr",
     "output_type": "stream",
     "text": [
      " 30%|███       | 60/200 [03:27<08:09,  3.50s/it]"
     ]
    },
    {
     "name": "stdout",
     "output_type": "stream",
     "text": [
      "epoch 059 train_loss 0.36766370 val_loss 0.37234707 score 0.621\n"
     ]
    },
    {
     "name": "stderr",
     "output_type": "stream",
     "text": [
      " 32%|███▎      | 65/200 [03:44<07:45,  3.45s/it]"
     ]
    },
    {
     "name": "stdout",
     "output_type": "stream",
     "text": [
      "epoch 064 train_loss 0.33206509 val_loss 0.60559469 score 0.562\n"
     ]
    },
    {
     "name": "stderr",
     "output_type": "stream",
     "text": [
      " 35%|███▌      | 70/200 [04:01<07:23,  3.41s/it]"
     ]
    },
    {
     "name": "stdout",
     "output_type": "stream",
     "text": [
      "epoch 069 train_loss 0.28062638 val_loss 0.44268429 score 0.600\n"
     ]
    },
    {
     "name": "stderr",
     "output_type": "stream",
     "text": [
      " 38%|███▊      | 75/200 [04:18<07:31,  3.61s/it]"
     ]
    },
    {
     "name": "stdout",
     "output_type": "stream",
     "text": [
      "epoch 074 train_loss 0.31821024 val_loss 0.35116388 score 0.628\n"
     ]
    },
    {
     "name": "stderr",
     "output_type": "stream",
     "text": [
      " 40%|████      | 80/200 [04:34<06:23,  3.20s/it]"
     ]
    },
    {
     "name": "stdout",
     "output_type": "stream",
     "text": [
      "epoch 079 train_loss 0.28133549 val_loss 0.21025516 score 0.686\n"
     ]
    },
    {
     "name": "stderr",
     "output_type": "stream",
     "text": [
      " 42%|████▎     | 85/200 [04:49<06:01,  3.15s/it]"
     ]
    },
    {
     "name": "stdout",
     "output_type": "stream",
     "text": [
      "epoch 084 train_loss 0.29076134 val_loss 0.26206448 score 0.661\n"
     ]
    },
    {
     "name": "stderr",
     "output_type": "stream",
     "text": [
      " 45%|████▌     | 90/200 [05:08<07:02,  3.84s/it]"
     ]
    },
    {
     "name": "stdout",
     "output_type": "stream",
     "text": [
      "epoch 089 train_loss 0.22747307 val_loss 0.26917959 score 0.658\n"
     ]
    },
    {
     "name": "stderr",
     "output_type": "stream",
     "text": [
      " 48%|████▊     | 95/200 [05:26<06:14,  3.57s/it]"
     ]
    },
    {
     "name": "stdout",
     "output_type": "stream",
     "text": [
      "epoch 094 train_loss 0.25933861 val_loss 0.87456313 score 0.517\n"
     ]
    },
    {
     "name": "stderr",
     "output_type": "stream",
     "text": [
      " 50%|█████     | 100/200 [05:42<05:30,  3.30s/it]"
     ]
    },
    {
     "name": "stdout",
     "output_type": "stream",
     "text": [
      "epoch 099 train_loss 0.22538189 val_loss 0.20949079 score 0.686\n"
     ]
    },
    {
     "name": "stderr",
     "output_type": "stream",
     "text": [
      " 52%|█████▎    | 105/200 [05:58<05:09,  3.26s/it]"
     ]
    },
    {
     "name": "stdout",
     "output_type": "stream",
     "text": [
      "epoch 104 train_loss 0.20449763 val_loss 0.20288382 score 0.689\n"
     ]
    },
    {
     "name": "stderr",
     "output_type": "stream",
     "text": [
      " 55%|█████▌    | 110/200 [06:14<04:51,  3.24s/it]"
     ]
    },
    {
     "name": "stdout",
     "output_type": "stream",
     "text": [
      "epoch 109 train_loss 0.21491537 val_loss 0.25925705 score 0.663\n"
     ]
    },
    {
     "name": "stderr",
     "output_type": "stream",
     "text": [
      " 57%|█████▊    | 115/200 [06:30<04:35,  3.25s/it]"
     ]
    },
    {
     "name": "stdout",
     "output_type": "stream",
     "text": [
      "epoch 114 train_loss 0.16521528 val_loss 0.25910711 score 0.663\n"
     ]
    },
    {
     "name": "stderr",
     "output_type": "stream",
     "text": [
      " 60%|██████    | 120/200 [06:46<04:20,  3.25s/it]"
     ]
    },
    {
     "name": "stdout",
     "output_type": "stream",
     "text": [
      "epoch 119 train_loss 0.21126290 val_loss 0.26619458 score 0.660\n"
     ]
    },
    {
     "name": "stderr",
     "output_type": "stream",
     "text": [
      " 62%|██████▎   | 125/200 [07:01<03:57,  3.17s/it]"
     ]
    },
    {
     "name": "stdout",
     "output_type": "stream",
     "text": [
      "epoch 124 train_loss 0.23067804 val_loss 0.36373887 score 0.624\n"
     ]
    },
    {
     "name": "stderr",
     "output_type": "stream",
     "text": [
      " 65%|██████▌   | 130/200 [07:17<03:46,  3.24s/it]"
     ]
    },
    {
     "name": "stdout",
     "output_type": "stream",
     "text": [
      "epoch 129 train_loss 0.15165120 val_loss 0.20031057 score 0.691\n"
     ]
    },
    {
     "name": "stderr",
     "output_type": "stream",
     "text": [
      " 68%|██████▊   | 135/200 [07:34<03:47,  3.49s/it]"
     ]
    },
    {
     "name": "stdout",
     "output_type": "stream",
     "text": [
      "epoch 134 train_loss 0.18423145 val_loss 0.34805593 score 0.629\n"
     ]
    },
    {
     "name": "stderr",
     "output_type": "stream",
     "text": [
      " 70%|███████   | 140/200 [07:52<03:35,  3.60s/it]"
     ]
    },
    {
     "name": "stdout",
     "output_type": "stream",
     "text": [
      "epoch 139 train_loss 0.20145357 val_loss 0.19680018 score 0.693\n"
     ]
    },
    {
     "name": "stderr",
     "output_type": "stream",
     "text": [
      " 72%|███████▎  | 145/200 [08:11<03:36,  3.94s/it]"
     ]
    },
    {
     "name": "stdout",
     "output_type": "stream",
     "text": [
      "epoch 144 train_loss 0.18542970 val_loss 0.23807014 score 0.672\n"
     ]
    },
    {
     "name": "stderr",
     "output_type": "stream",
     "text": [
      " 75%|███████▌  | 150/200 [08:31<03:24,  4.09s/it]"
     ]
    },
    {
     "name": "stdout",
     "output_type": "stream",
     "text": [
      "epoch 149 train_loss 0.16711780 val_loss 0.24307013 score 0.670\n"
     ]
    },
    {
     "name": "stderr",
     "output_type": "stream",
     "text": [
      " 78%|███████▊  | 155/200 [08:51<03:02,  4.06s/it]"
     ]
    },
    {
     "name": "stdout",
     "output_type": "stream",
     "text": [
      "epoch 154 train_loss 0.55532616 val_loss 0.19141508 score 0.697\n"
     ]
    },
    {
     "name": "stderr",
     "output_type": "stream",
     "text": [
      " 80%|████████  | 160/200 [09:08<02:24,  3.62s/it]"
     ]
    },
    {
     "name": "stdout",
     "output_type": "stream",
     "text": [
      "epoch 159 train_loss 0.15079689 val_loss 0.25832788 score 0.663\n"
     ]
    },
    {
     "name": "stderr",
     "output_type": "stream",
     "text": [
      " 82%|████████▎ | 165/200 [09:26<02:05,  3.57s/it]"
     ]
    },
    {
     "name": "stdout",
     "output_type": "stream",
     "text": [
      "epoch 164 train_loss 0.14973792 val_loss 0.40172069 score 0.612\n"
     ]
    },
    {
     "name": "stderr",
     "output_type": "stream",
     "text": [
      " 85%|████████▌ | 170/200 [09:43<01:44,  3.48s/it]"
     ]
    },
    {
     "name": "stdout",
     "output_type": "stream",
     "text": [
      "epoch 169 train_loss 0.32502509 val_loss 0.14952264 score 0.721\n"
     ]
    },
    {
     "name": "stderr",
     "output_type": "stream",
     "text": [
      " 88%|████████▊ | 175/200 [09:59<01:24,  3.37s/it]"
     ]
    },
    {
     "name": "stdout",
     "output_type": "stream",
     "text": [
      "epoch 174 train_loss 0.14971559 val_loss 0.25348700 score 0.666\n"
     ]
    },
    {
     "name": "stderr",
     "output_type": "stream",
     "text": [
      " 90%|█████████ | 180/200 [10:15<01:04,  3.25s/it]"
     ]
    },
    {
     "name": "stdout",
     "output_type": "stream",
     "text": [
      "epoch 179 train_loss 0.13651851 val_loss 0.16195012 score 0.713\n"
     ]
    },
    {
     "name": "stderr",
     "output_type": "stream",
     "text": [
      " 92%|█████████▎| 185/200 [10:31<00:47,  3.19s/it]"
     ]
    },
    {
     "name": "stdout",
     "output_type": "stream",
     "text": [
      "epoch 184 train_loss 0.12980799 val_loss 0.15396302 score 0.718\n"
     ]
    },
    {
     "name": "stderr",
     "output_type": "stream",
     "text": [
      " 95%|█████████▌| 190/200 [10:47<00:31,  3.19s/it]"
     ]
    },
    {
     "name": "stdout",
     "output_type": "stream",
     "text": [
      "epoch 189 train_loss 0.44755427 val_loss 0.43979537 score 0.601\n"
     ]
    },
    {
     "name": "stderr",
     "output_type": "stream",
     "text": [
      " 98%|█████████▊| 195/200 [11:03<00:16,  3.37s/it]"
     ]
    },
    {
     "name": "stdout",
     "output_type": "stream",
     "text": [
      "Epoch 00039: reducing learning rate of group 0 to 2.0000e-04.\n",
      "epoch 194 train_loss 0.14276822 val_loss 0.39542843 score 0.614\n"
     ]
    },
    {
     "name": "stderr",
     "output_type": "stream",
     "text": [
      "100%|██████████| 200/200 [11:20<00:00,  3.40s/it]"
     ]
    },
    {
     "name": "stdout",
     "output_type": "stream",
     "text": [
      "epoch 199 train_loss 0.05229227 val_loss 0.14615753 score 0.724\n"
     ]
    },
    {
     "name": "stderr",
     "output_type": "stream",
     "text": [
      "\n"
     ]
    }
   ],
   "source": [
    "best_dict = {}\n",
    "for epoch in tqdm(range(num_epochs)):\n",
    "    model.train()\n",
    "    train_losses = []\n",
    "    for index, (input, label) in enumerate(train_loader):\n",
    "        input = input.to(device)\n",
    "        label = torch.squeeze(label[:, -1:, ]).to(device)\n",
    "        output = model(input)\n",
    "        train_loss = criterion(output, label)\n",
    "        optimizer.zero_grad()\n",
    "        train_loss.backward()\n",
    "        optimizer.step()\n",
    "        train_losses.append(train_loss.item())\n",
    "\n",
    "    if epoch % 5 == 4:\n",
    "        model.eval()\n",
    "        torch.save(model.state_dict(), f'model/model_params_{epoch}.pth')\n",
    "        val_losses = []\n",
    "        outputs, labels = [], []\n",
    "        for index, (input, label) in enumerate(val_loader):\n",
    "            input = input.to(device)\n",
    "            label = torch.squeeze(label[:, -1:, ]).to(device)\n",
    "            output = model(input)\n",
    "\n",
    "            outputs.append(output)\n",
    "            labels.append(label)\n",
    "            val_loss = criterion(output, label)\n",
    "            score = 1 / (1 + val_loss.item())\n",
    "            val_losses.append(val_loss.item())\n",
    "\n",
    "        ## 计算此次验证分数\n",
    "        with torch.no_grad():\n",
    "            all_outputs = torch.cat(outputs, dim=0)\n",
    "            all_labels = torch.cat(labels, dim=0)\n",
    "            rmse = torch.sqrt(criterion(all_outputs, all_labels)).item()\n",
    "            score = 1 / (1 + rmse)\n",
    "\n",
    "        scheduler.step(rmse)\n",
    "        best_dict[epoch] = score\n",
    "        print('epoch {:03d} train_loss {:.8f} val_loss {:.8f} score {:.3f}'.format(epoch, np.mean(train_losses),\n",
    "                                                                                   np.mean(val_losses), score))"
   ]
  },
  {
   "cell_type": "code",
   "execution_count": 18,
   "metadata": {
    "collapsed": false,
    "pycharm": {
     "name": "#%%\n"
    },
    "ExecuteTime": {
     "end_time": "2023-12-12T09:09:20.037288Z",
     "start_time": "2023-12-12T09:09:20.025568800Z"
    }
   },
   "outputs": [
    {
     "name": "stdout",
     "output_type": "stream",
     "text": [
      "1\n"
     ]
    },
    {
     "data": {
      "text/plain": "32"
     },
     "execution_count": 18,
     "metadata": {},
     "output_type": "execute_result"
    }
   ],
   "source": [
    "#gpu count\n",
    "print(torch.cuda.device_count())\n",
    "import joblib\n",
    "\n",
    "joblib.cpu_count()"
   ]
  },
  {
   "cell_type": "markdown",
   "metadata": {
    "pycharm": {
     "name": "#%% md\n"
    }
   },
   "source": [
    "#### 可视化训练结果"
   ]
  },
  {
   "cell_type": "code",
   "execution_count": 19,
   "metadata": {
    "collapsed": false,
    "pycharm": {
     "name": "#%%\n"
    },
    "ExecuteTime": {
     "end_time": "2023-12-12T09:09:21.591783100Z",
     "start_time": "2023-12-12T09:09:21.582681500Z"
    }
   },
   "outputs": [
    {
     "name": "stdout",
     "output_type": "stream",
     "text": [
      "0.7243075422813455 [199]\n"
     ]
    }
   ],
   "source": [
    "max_score = max(best_dict.values())\n",
    "found_keys = [key for key, value in best_dict.items() if value == max_score]\n",
    "print(max_score, found_keys)"
   ]
  },
  {
   "cell_type": "code",
   "execution_count": 20,
   "metadata": {
    "collapsed": false,
    "pycharm": {
     "name": "#%%\n"
    },
    "ExecuteTime": {
     "end_time": "2023-12-12T09:09:22.211680800Z",
     "start_time": "2023-12-12T09:09:22.203634600Z"
    }
   },
   "outputs": [
    {
     "data": {
      "text/plain": "{4: 0.3754006523030982,\n 9: 0.47755456952099645,\n 14: 0.4192822675748658,\n 19: 0.3916615747660111,\n 24: 0.5475691694947749,\n 29: 0.5591938779241186,\n 34: 0.5982754327349266,\n 39: 0.5365162447173322,\n 44: 0.49400828693605914,\n 49: 0.48156519158309397,\n 54: 0.616021312146321,\n 59: 0.6209197636323571,\n 64: 0.5623880693875436,\n 69: 0.6004310865765959,\n 74: 0.6279072570054154,\n 79: 0.6855286847688393,\n 84: 0.6614734617598587,\n 89: 0.6583305107012548,\n 94: 0.5174579592025569,\n 99: 0.6858503058692733,\n 104: 0.6892850909003809,\n 109: 0.6629328686079782,\n 114: 0.6626302182741479,\n 119: 0.65957533047829,\n 124: 0.6237938387348045,\n 129: 0.6907152588222124,\n 134: 0.6288564282321828,\n 139: 0.6928985789732212,\n 144: 0.6720182832122645,\n 149: 0.669905947845317,\n 154: 0.6967625420263112,\n 159: 0.662966504756922,\n 164: 0.6119724892051733,\n 169: 0.7210384797384972,\n 174: 0.6660936569539946,\n 179: 0.7129370313708865,\n 184: 0.7180327602241422,\n 189: 0.6014907687036949,\n 194: 0.6138815353785616,\n 199: 0.7243075422813455}"
     },
     "execution_count": 20,
     "metadata": {},
     "output_type": "execute_result"
    }
   ],
   "source": [
    "best_dict  #加了embedding，0.00278"
   ]
  },
  {
   "cell_type": "code",
   "execution_count": 21,
   "metadata": {
    "collapsed": false,
    "pycharm": {
     "name": "#%%\n"
    },
    "ExecuteTime": {
     "end_time": "2023-12-12T09:09:23.025148300Z",
     "start_time": "2023-12-12T09:09:22.771664400Z"
    }
   },
   "outputs": [
    {
     "data": {
      "text/plain": "<Figure size 640x480 with 1 Axes>",
      "image/png": "[encoded data removed]"
     },
     "metadata": {},
     "output_type": "display_data"
    }
   ],
   "source": [
    "import matplotlib.pyplot as plt\n",
    "\n",
    "x = list(best_dict.keys())\n",
    "y = list(best_dict.values())\n",
    "\n",
    "plt.plot(x, y, 'b-', label='Validation Loss')\n",
    "plt.title('local score over Epochs')\n",
    "plt.xlabel('Epochs')\n",
    "plt.ylabel('Loss')\n",
    "plt.legend()\n",
    "plt.show()"
   ]
  },
  {
   "cell_type": "markdown",
   "metadata": {
    "pycharm": {
     "name": "#%% md\n"
    }
   },
   "source": [
    "#### CNN预测"
   ]
  },
  {
   "cell_type": "code",
   "execution_count": 22,
   "metadata": {
    "collapsed": false,
    "pycharm": {
     "name": "#%%\n"
    },
    "ExecuteTime": {
     "end_time": "2023-12-12T09:09:24.374601Z",
     "start_time": "2023-12-12T09:09:24.332040900Z"
    }
   },
   "outputs": [
    {
     "name": "stdout",
     "output_type": "stream",
     "text": [
      "19\n"
     ]
    },
    {
     "data": {
      "text/plain": "<All keys matched successfully>"
     },
     "execution_count": 22,
     "metadata": {},
     "output_type": "execute_result"
    }
   ],
   "source": [
    "test_model = CNN(input_size, class_size, hidden_size, num_layers).to(device)\n",
    "#min_index = list(best_dict.values()).index(min(best_dict.values()))\n",
    "max_index = 19\n",
    "print(max_index)\n",
    "test_model.load_state_dict(torch.load(f'model/model_params_{max_index}9.pth'))"
   ]
  },
  {
   "cell_type": "code",
   "execution_count": 23,
   "outputs": [
    {
     "data": {
      "text/plain": "3420"
     },
     "execution_count": 23,
     "metadata": {},
     "output_type": "execute_result"
    }
   ],
   "source": [
    "1140 * 3"
   ],
   "metadata": {
    "collapsed": false,
    "pycharm": {
     "name": "#%%\n"
    },
    "ExecuteTime": {
     "end_time": "2023-12-12T09:09:24.889291900Z",
     "start_time": "2023-12-12T09:09:24.880727Z"
    }
   }
  },
  {
   "cell_type": "code",
   "execution_count": 24,
   "outputs": [
    {
     "data": {
      "text/plain": "tensor([ 1.1390e+03, -1.1150e+00, -1.1660e+00, -1.1440e+00, -1.0430e+00,\n        -1.0640e+00, -1.0960e+00, -1.9650e+00, -4.2300e-01, -7.8000e-01,\n         2.8860e+00,  4.6410e+00, -1.9230e+00, -3.1520e+00, -1.4010e+00,\n        -3.5500e-01,  1.5000e+00,  2.0330e+00, -2.1310e+00,  4.6500e-01,\n         0.0000e+00,  0.0000e+00,  0.0000e+00,  2.4100e-01,  1.8200e-01,\n         9.5000e-02,  3.0000e-02,  1.2100e-01,  7.0000e-03, -7.3200e-01,\n        -7.8700e-01, -7.0000e-01, -2.0730e+00, -2.6580e+00,  6.3702e-01,\n        -4.1070e-01,  2.4349e+00, -4.1070e-01, -4.1070e-01, -4.1070e-01,\n        -3.9340e-01, -4.1070e-01, -1.6835e-02, -1.7972e-02, -2.6495e-02,\n        -2.1941e-02, -3.8908e-02, -1.1668e-02, -2.5393e+00, -1.7358e+00,\n        -1.1224e-01,  4.1495e-01, -3.3580e+00, -1.5823e+00, -4.4265e+00,\n        -2.2823e+00, -1.0228e-02, -6.7745e-01, -1.6725e+00, -1.7999e-01,\n        -1.1053e+00, -3.8471e-02, -7.5676e-02, -6.1228e-02, -2.0821e+00,\n        -9.5540e+00, -1.5407e+00, -4.8378e-01, -7.4892e+00, -2.6975e-01,\n        -2.2523e-02, -2.4759e-02, -9.6928e-03, -2.3111e-01, -7.2070e-02,\n        -1.1796e+00, -7.8267e-01, -1.2030e+00, -9.2325e-01, -1.2193e+00,\n        -7.8971e-01, -1.2400e+00, -9.2205e-01, -1.1870e+00, -6.6762e-01,\n        -1.2106e+00, -7.6557e-01, -1.0685e+00, -6.8325e-01, -1.0807e+00,\n        -7.7858e-01, -1.0852e+00, -6.8972e-01, -1.0972e+00, -7.8629e-01,\n        -1.1233e+00, -7.0193e-01, -1.1347e+00, -7.9996e-01, -1.6424e+00,\n         1.5025e+00, -8.1942e-01,  1.9739e+00, -4.2513e-01,  9.3995e-01,\n        -5.6969e-01, -7.8671e-02,  1.2200e-01,  1.0467e+00, -3.6602e-01,\n         7.0344e-01,  3.8102e+00,  1.8712e+00,  4.6971e+00,  3.5351e+00,\n         5.5984e+00,  1.8433e+00,  6.9900e+00,  1.1292e+01, -1.6566e+00,\n        -1.4561e-01, -1.8345e+00, -3.2421e-01, -3.0800e+00,  3.8267e+00,\n        -2.1437e+00,  4.7320e+00, -1.8016e+00,  2.4378e+00, -1.9238e+00,\n         1.6101e+00, -4.7095e-01, -1.1557e-01, -5.8857e-01, -1.8000e-01,\n         2.4859e+00,  7.4279e-01,  2.9860e+00,  8.3192e-01,  3.5493e+00,\n         1.1365e+00,  5.9043e+00,  3.6407e+00, -3.0072e+00,  1.5870e+00,\n        -3.3683e+00,  1.4578e+00,  8.3141e-01, -4.1234e-01, -9.8940e-02,\n        -1.0807e-01, -1.0319e+00, -7.1071e-01, -1.0463e+00, -7.9554e-01,\n        -1.0425e+00, -7.0516e-01, -1.0568e+00, -7.9439e-01, -9.4607e-01,\n        -7.0548e-01, -9.6701e-01, -7.8100e-01,  9.4159e-01,  6.5590e+00,\n        -2.6399e-01,  5.9157e+00,  1.6047e+00,  6.8937e+00,  1.2352e+00,\n         5.0588e+00,  1.8601e+00,  7.3691e+00,  1.2309e+00,  5.3665e+00,\n         5.9652e-02,  1.7265e+00, -2.7840e-01,  1.2201e+00,  3.5408e-01,\n         5.3991e+00,  5.8659e-01,  4.5902e+00,  1.9882e-01,  6.8628e-01,\n        -1.7925e-01,  3.6200e-01, -1.0810e+00, -7.3483e-01, -1.0907e+00,\n        -8.2385e-01, -1.1961e+00, -6.8069e-01, -1.2037e+00, -7.8109e-01,\n        -9.4703e-01, -5.8384e-01, -9.5542e-01, -6.2880e-01, -2.7411e+00,\n        -7.0795e-01, -2.9161e+00, -5.2679e-01, -1.9918e+00,  1.5096e+00,\n        -2.7943e+00,  1.0709e+00, -1.0448e-01, -2.0498e-02, -8.0328e-02,\n        -9.8687e-02, -3.2137e-01, -1.9125e-01, -3.1709e-01, -3.0843e-01,\n        -1.0085e-01,  3.4340e-02, -5.8093e-02, -1.0155e-01, -1.2540e-01,\n        -7.7842e-02, -1.1680e-01, -9.6712e-02, -9.1416e-01, -7.5998e-01,\n        -8.9643e-01, -4.9945e-01, -1.0042e-01, -1.9736e-02, -7.3251e-02,\n        -1.0365e-01])"
     },
     "execution_count": 24,
     "metadata": {},
     "output_type": "execute_result"
    }
   ],
   "source": [
    "my_dataset.test[-1, -1]"
   ],
   "metadata": {
    "collapsed": false,
    "pycharm": {
     "name": "#%%\n"
    },
    "ExecuteTime": {
     "end_time": "2023-12-12T09:09:25.452432Z",
     "start_time": "2023-12-12T09:09:25.444173600Z"
    }
   }
  },
  {
   "cell_type": "code",
   "execution_count": 25,
   "outputs": [
    {
     "data": {
      "text/plain": "geohash_id                    1139\ndate_id        2023-04-10 00:00:00\nF_1                         -1.115\nF_2                         -1.166\nF_3                         -1.144\n                      ...         \nF_2std_y                 -0.499454\nF1-F2max_y               -0.100419\nF1-F2min_y               -0.019736\nF1-F2mean_y              -0.073251\nF1-F2std_y               -0.103653\nName: 110579, Length: 234, dtype: object"
     },
     "execution_count": 25,
     "metadata": {},
     "output_type": "execute_result"
    }
   ],
   "source": [
    "all_nodes.iloc[-1]"
   ],
   "metadata": {
    "collapsed": false,
    "pycharm": {
     "name": "#%%\n"
    },
    "ExecuteTime": {
     "end_time": "2023-12-12T09:09:26.188681800Z",
     "start_time": "2023-12-12T09:09:26.179316800Z"
    }
   }
  },
  {
   "cell_type": "code",
   "execution_count": 26,
   "metadata": {
    "collapsed": false,
    "pycharm": {
     "name": "#%%\n"
    },
    "ExecuteTime": {
     "end_time": "2023-12-12T09:09:27.232576400Z",
     "start_time": "2023-12-12T09:09:26.979700600Z"
    }
   },
   "outputs": [
    {
     "data": {
      "text/plain": "torch.Size([28, 2])"
     },
     "execution_count": 26,
     "metadata": {},
     "output_type": "execute_result"
    }
   ],
   "source": [
    "test_model.eval()\n",
    "batch_list = list(range(0, 3420, batch_size))\n",
    "test = my_dataset.test.to(device)\n",
    "output_list = []\n",
    "\n",
    "for i in range(len(batch_list)):\n",
    "    if i != len(batch_list) - 1:\n",
    "        x = test[batch_list[i]:batch_list[i + 1], :, :]\n",
    "    else:\n",
    "        x = test[batch_list[i]:, :, :]\n",
    "\n",
    "    output = model(x)\n",
    "    output_list.append(output)\n",
    "output.shape"
   ]
  },
  {
   "cell_type": "markdown",
   "metadata": {
    "pycharm": {
     "name": "#%% md\n"
    }
   },
   "source": [
    "#### 生成提交结果"
   ]
  },
  {
   "cell_type": "code",
   "execution_count": 27,
   "metadata": {
    "collapsed": false,
    "pycharm": {
     "name": "#%%\n"
    },
    "ExecuteTime": {
     "end_time": "2023-12-12T09:09:28.303861900Z",
     "start_time": "2023-12-12T09:09:28.280204600Z"
    }
   },
   "outputs": [],
   "source": [
    "new = torch.cat(output_list, dim=0).cpu().detach().numpy()\n",
    "all_nodes['date_id'] = pd.to_datetime(all_nodes['date_id'], format=\"%Y-%m-%d\")\n",
    "all_nodes.loc[\n",
    "    (all_nodes['date_id'] >= datetime(2023, 4, 8)) & (all_nodes['date_id'] <= datetime(2023, 4, 10)), [\"active_index\",\n",
    "                                                                                                       \"consume_index\"]] = new"
   ]
  },
  {
   "cell_type": "code",
   "execution_count": 28,
   "metadata": {
    "collapsed": false,
    "pycharm": {
     "name": "#%%\n"
    },
    "ExecuteTime": {
     "end_time": "2023-12-12T09:09:28.856197900Z",
     "start_time": "2023-12-12T09:09:28.828950200Z"
    }
   },
   "outputs": [
    {
     "data": {
      "text/plain": "     geohash_id  consumption_level  activity_level   date_id\n0     007e3e4ef          68.555862       71.032188  20230408\n1     00a05f0b1          72.959862       72.190453  20230408\n2     00aaa190x          56.708282       66.435692  20230408\n3     00b24a1c9          58.621490       66.659218  20230408\n4     00f716fcd          51.771442       63.668507  20230408\n...         ...                ...             ...       ...\n3415  fee9ff61g          78.110649       70.986977  20230410\n3416  ff2a13239          44.967850       56.458126  20230410\n3417  ff3efc8az          65.500214       70.046112  20230410\n3418  ff4566eeb          64.773674       69.397804  20230410\n3419  ffa6d8556          45.506012       67.080742  20230410\n\n[3420 rows x 4 columns]",
      "text/html": "<div>\n<style scoped>\n    .dataframe tbody tr th:only-of-type {\n        vertical-align: middle;\n    }\n\n    .dataframe tbody tr th {\n        vertical-align: top;\n    }\n\n    .dataframe thead th {\n        text-align: right;\n    }\n</style>\n<table border=\"1\" class=\"dataframe\">\n  <thead>\n    <tr style=\"text-align: right;\">\n      <th></th>\n      <th>geohash_id</th>\n      <th>consumption_level</th>\n      <th>activity_level</th>\n      <th>date_id</th>\n    </tr>\n  </thead>\n  <tbody>\n    <tr>\n      <th>0</th>\n      <td>007e3e4ef</td>\n      <td>68.555862</td>\n      <td>71.032188</td>\n      <td>20230408</td>\n    </tr>\n    <tr>\n      <th>1</th>\n      <td>00a05f0b1</td>\n      <td>72.959862</td>\n      <td>72.190453</td>\n      <td>20230408</td>\n    </tr>\n    <tr>\n      <th>2</th>\n      <td>00aaa190x</td>\n      <td>56.708282</td>\n      <td>66.435692</td>\n      <td>20230408</td>\n    </tr>\n    <tr>\n      <th>3</th>\n      <td>00b24a1c9</td>\n      <td>58.621490</td>\n      <td>66.659218</td>\n      <td>20230408</td>\n    </tr>\n    <tr>\n      <th>4</th>\n      <td>00f716fcd</td>\n      <td>51.771442</td>\n      <td>63.668507</td>\n      <td>20230408</td>\n    </tr>\n    <tr>\n      <th>...</th>\n      <td>...</td>\n      <td>...</td>\n      <td>...</td>\n      <td>...</td>\n    </tr>\n    <tr>\n      <th>3415</th>\n      <td>fee9ff61g</td>\n      <td>78.110649</td>\n      <td>70.986977</td>\n      <td>20230410</td>\n    </tr>\n    <tr>\n      <th>3416</th>\n      <td>ff2a13239</td>\n      <td>44.967850</td>\n      <td>56.458126</td>\n      <td>20230410</td>\n    </tr>\n    <tr>\n      <th>3417</th>\n      <td>ff3efc8az</td>\n      <td>65.500214</td>\n      <td>70.046112</td>\n      <td>20230410</td>\n    </tr>\n    <tr>\n      <th>3418</th>\n      <td>ff4566eeb</td>\n      <td>64.773674</td>\n      <td>69.397804</td>\n      <td>20230410</td>\n    </tr>\n    <tr>\n      <th>3419</th>\n      <td>ffa6d8556</td>\n      <td>45.506012</td>\n      <td>67.080742</td>\n      <td>20230410</td>\n    </tr>\n  </tbody>\n</table>\n<p>3420 rows × 4 columns</p>\n</div>"
     },
     "execution_count": 28,
     "metadata": {},
     "output_type": "execute_result"
    }
   ],
   "source": [
    "submit = all_nodes.loc[\n",
    "    (all_nodes['date_id'] >= datetime(2023, 4, 8)) & (all_nodes['date_id'] <= datetime(2023, 4, 10)), [\"geohash_id\",\n",
    "                                                                                                       \"date_id\",\n",
    "                                                                                                       \"active_index\",\n",
    "                                                                                                       \"consume_index\"]].copy().reset_index(\n",
    "    drop=True)\n",
    "submit = submit.loc[:, [\"geohash_id\", \"consume_index\", \"active_index\", \"date_id\"]]\n",
    "submit['date_id'] = submit['date_id'].apply(lambda x: x.strftime('%Y%m%d'))\n",
    "submit = submit.rename(columns={'consume_index': 'consumption_level', 'active_index': 'activity_level'})\n",
    "swapped_dict = {v: k for k, v in set_map.items()}\n",
    "submit[\"geohash_id\"] = submit[\"geohash_id\"].map(swapped_dict)\n",
    "submit"
   ]
  },
  {
   "cell_type": "code",
   "execution_count": 29,
   "metadata": {
    "collapsed": false,
    "pycharm": {
     "name": "#%%\n"
    },
    "ExecuteTime": {
     "end_time": "2023-12-12T09:09:29.545755400Z",
     "start_time": "2023-12-12T09:09:29.528287200Z"
    }
   },
   "outputs": [],
   "source": [
    "submit.to_csv('submit/submit_B.csv', sep='\\t', index=None)"
   ]
  },
  {
   "cell_type": "code",
   "execution_count": null,
   "outputs": [],
   "source": [],
   "metadata": {
    "collapsed": false
   }
  }
 ],
 "metadata": {
  "kernelspec": {
   "display_name": "Python 3 (ipykernel)",
   "language": "python",
   "name": "python3"
  },
  "language_info": {
   "codemirror_mode": {
    "name": "ipython",
    "version": 3
   },
   "file_extension": ".py",
   "mimetype": "text/x-python",
   "name": "python",
   "nbconvert_exporter": "python",
   "pygments_lexer": "ipython3",
   "version": "3.8.10"
  }
 },
 "nbformat": 4,
 "nbformat_minor": 4
}
